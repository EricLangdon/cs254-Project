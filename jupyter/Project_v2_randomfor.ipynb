{
 "cells": [
  {
   "cell_type": "code",
   "execution_count": 1,
   "metadata": {},
   "outputs": [],
   "source": [
    "import pandas as pd\n",
    "import numpy as np\n",
    "import os\n",
    "import matplotlib.pyplot as plt\n",
    "from sklearn import svm, datasets\n",
    "from sklearn.model_selection import cross_val_score, RandomizedSearchCV\n",
    "from sklearn.preprocessing import MinMaxScaler, LabelEncoder\n",
    "from sklearn.ensemble import RandomForestClassifier\n",
    "from sklearn.tree import DecisionTreeClassifier"
   ]
  },
  {
   "cell_type": "code",
   "execution_count": 2,
   "metadata": {},
   "outputs": [],
   "source": [
    "\n",
    "file = pd.read_csv('../data/Inplaydata19.csv', error_bad_lines=False)\n",
    "dataFrame = pd.DataFrame(file)\n",
    "\n"
   ]
  },
  {
   "cell_type": "code",
   "execution_count": 3,
   "metadata": {},
   "outputs": [],
   "source": [
    "# Single, Double, Triple, HomeRun, (field_out, force_out, fielders_choice) = out, \n",
    "# grounded_into_double_play, sac_fly, sac_bunt,\n",
    "\n",
    "#Transform values into binary classification\n",
    "d = {\n",
    "    'single': 1, \n",
    "    'double': 1, \n",
    "    'triple': 1, \n",
    "    'home_run': 1, \n",
    "    'field_out': 0,\n",
    "    'force_out': 0,\n",
    "    'fielders_choice': 1,\n",
    "    'grounded_into_double_play': 0,\n",
    "    'sac_fly': 0,\n",
    "    'sac_bunt': 0,\n",
    "    'double_play': 0,\n",
    "    'fielders_choice_out': 0,\n",
    "    'catcher_interf': 1,\n",
    "    'triple_play': 0,\n",
    "    'field_error': 1,\n",
    "    'sac_fly_double_play': 0,\n",
    "    'sac_bunt_double_play': 0\n",
    "}\n",
    "\n",
    "dataFrame = dataFrame.replace(d)\n",
    "#dataFrame=dataFrame.sample(frac=1).reset_index(drop=True)"
   ]
  },
  {
   "cell_type": "code",
   "execution_count": 4,
   "metadata": {},
   "outputs": [],
   "source": [
    "X = pd.DataFrame()\n",
    "dataFrame=dataFrame[dataFrame['hc_y']!=198]\n",
    "dataFrame= dataFrame.dropna(subset=['launch_speed','launch_angle','hc_x','hc_y'])\n",
    "dataFrame=dataFrame.sample(frac=1).reset_index()\n",
    "batterlist=dataFrame['batter']\n",
    "indexlist=dataFrame['index']\n",
    "X['launch_speed'] = dataFrame['launch_speed']\n",
    "X['launch_angle'] = dataFrame['launch_angle']*np.pi/180\n",
    "X['launch_speed_angle'] = dataFrame['launch_speed_angle']\n",
    "X['estimated_ba_using_speedangle'] = dataFrame['estimated_ba_using_speedangle']\n",
    "X['hc_x']=125-dataFrame['hc_x']\n",
    "X['hc_y']=198-dataFrame['hc_y']\n",
    "X['events'] = dataFrame['events']\n",
    "X.insert(0, 'Ones', 1)\n",
    "\n",
    "\n",
    "y = X['events']\n",
    "\n",
    "X = X.iloc[:, :-1]\n"
   ]
  },
  {
   "cell_type": "code",
   "execution_count": 5,
   "metadata": {},
   "outputs": [],
   "source": [
    "\n",
    "\n",
    "X['hor_rad']=np.arctan(X['hc_x']/X['hc_y'])\n",
    "X['hor_deg']=X['hor_rad']*(180/np.pi)"
   ]
  },
  {
   "cell_type": "code",
   "execution_count": 6,
   "metadata": {},
   "outputs": [],
   "source": [
    "meanspd=np.mean(X['launch_speed'])\n",
    "stdspd=np.std(X['launch_speed'])\n",
    "meanang=np.mean(X['launch_angle'])\n",
    "stdang=np.std(X['launch_angle'])\n",
    "stdhor=np.std(X['hor_rad'])\n"
   ]
  },
  {
   "cell_type": "code",
   "execution_count": 7,
   "metadata": {},
   "outputs": [],
   "source": [
    "normX=pd.DataFrame()\n",
    "normX['launch_speed']=(X['launch_speed']-meanspd)/stdspd\n",
    "normX['launch_angle']=(X['launch_angle']-meanang)/stdang\n",
    "normX['hor_angle']=(X['hor_rad'])/stdhor"
   ]
  },
  {
   "cell_type": "markdown",
   "metadata": {},
   "source": [
    "## SVM Stuff"
   ]
  },
  {
   "cell_type": "code",
   "execution_count": 8,
   "metadata": {},
   "outputs": [],
   "source": [
    "#Trim data\n",
    "normX=normX.iloc[:,:3]\n",
    "sliceX = normX.iloc[0:5000]\n",
    "slicey = y.iloc[0:5000]\n",
    "sliceX2 = normX.iloc[5000:10000]\n",
    "slicey2 = y.iloc[5000:10000]"
   ]
  },
  {
   "cell_type": "code",
   "execution_count": null,
   "metadata": {},
   "outputs": [
    {
     "name": "stdout",
     "output_type": "stream",
     "text": [
      "Fitting 10 folds for each of 25 candidates, totalling 250 fits\n"
     ]
    },
    {
     "name": "stderr",
     "output_type": "stream",
     "text": [
      "[Parallel(n_jobs=-1)]: Using backend LokyBackend with 4 concurrent workers.\n",
      "[Parallel(n_jobs=-1)]: Done  33 tasks      | elapsed: 20.7min\n"
     ]
    }
   ],
   "source": [
    "hyperparams = { \n",
    "    'C': np.linspace(1, 100, 100),\n",
    "    'gamma': np.linspace(0.00, 5, 100),\n",
    "    'class_weight': ['balanced', None],\n",
    "    'kernel': ['linear', 'rbf', 'poly', 'sigmoid']\n",
    "}\n",
    "\n",
    "rs = RandomizedSearchCV(svm.SVC(), hyperparams, cv=10, n_iter=25, verbose=2, scoring='accuracy',n_jobs=-1)\n",
    "rs.fit(sliceX, slicey)\n",
    "print(rs.best_params_)"
   ]
  },
  {
   "cell_type": "code",
   "execution_count": null,
   "metadata": {
    "scrolled": true
   },
   "outputs": [],
   "source": [
    "\n",
    "rbf_svc = svm.SVC(kernel='rbf', C=68, gamma=0.55, class_weight='balanced')\n",
    "scoresRBF = cross_val_score(rbf_svc, sliceX2, slicey2, cv=10, scoring='accuracy')\n",
    "print(np.mean(scoresRBF))"
   ]
  },
  {
   "cell_type": "markdown",
   "metadata": {},
   "source": [
    "## Random Forest"
   ]
  },
  {
   "cell_type": "code",
   "execution_count": null,
   "metadata": {},
   "outputs": [],
   "source": [
    "rf_hyperparams = { \n",
    "    'n_estimators': np.arange(100, 1000, 10),\n",
    "    'max_features': ['auto', 'sqrt'],\n",
    "    'max_depth': np.arange(10,100,10),\n",
    "    'min_samples_leaf': [1, 2, 4],\n",
    "    'min_samples_split': [2, 5, 10],\n",
    "    'bootstrap':[True,False]\n",
    "    \n",
    "}\n",
    "rf = RandomForestClassifier()\n",
    "rf_random = RandomizedSearchCV(rf, rf_hyperparams, n_iter = 50, cv = 3, verbose=2, random_state=42, n_jobs = -1)\n",
    "rf_random.fit(sliceX,slicey)\n",
    "print(rf_random.best_params_)"
   ]
  },
  {
   "cell_type": "code",
   "execution_count": null,
   "metadata": {},
   "outputs": [],
   "source": [
    "\n",
    "bestpar = rf_random.best_params_\n",
    "rf=RandomForestClassifier(n_estimators=bestpar['n_estimators'],min_samples_split=bestpar['min_samples_split'],\n",
    "                         min_samples_leaf=bestpar['min_samples_leaf'],max_depth=bestpar['max_depth'],max_features=bestpar['max_features'],\n",
    "                        bootstrap=bestpar['bootstrap'],n_jobs=-1, random_state=42)\n"
   ]
  },
  {
   "cell_type": "code",
   "execution_count": null,
   "metadata": {},
   "outputs": [],
   "source": [
    "scores_rf = cross_val_score(rf, sliceX2, slicey2, cv=10, scoring='accuracy')\n",
    "classifier=rf.fit(sliceX,slicey)\n",
    "print(np.mean(scores_rf))"
   ]
  },
  {
   "cell_type": "code",
   "execution_count": null,
   "metadata": {},
   "outputs": [],
   "source": [
    "results=pd.DataFrame()\n",
    "predictions=classifier.predict_proba(normX)\n",
    "results['launch_speed']=normX['launch_speed']*stdspd+meanspd\n",
    "results['launch_angle']=normX['launch_angle']*stdang+meanang\n",
    "results['hor_angle']=normX['hor_angle']*stdhor\n",
    "results['predictions']=predictions[:,1]"
   ]
  },
  {
   "cell_type": "code",
   "execution_count": null,
   "metadata": {},
   "outputs": [],
   "source": [
    "results.head()"
   ]
  },
  {
   "cell_type": "markdown",
   "metadata": {},
   "source": [
    "## Aggregation by Player"
   ]
  },
  {
   "cell_type": "code",
   "execution_count": null,
   "metadata": {},
   "outputs": [],
   "source": [
    "normX=normX.iloc[:,:3]\n",
    "normX['predictions']=classifier.predict_proba(normX)[:,1]\n"
   ]
  },
  {
   "cell_type": "code",
   "execution_count": null,
   "metadata": {},
   "outputs": [],
   "source": [
    "normX['batter']=batterlist\n",
    "#normX['regspeed']=normX['launch_speed']*stdspd+meanspd\n",
    "#normX['reglang']=normX['launch_angle']*stdang+meanang\n",
    "#normX['reghang']=normX['hor_angle']*stdhor"
   ]
  },
  {
   "cell_type": "code",
   "execution_count": null,
   "metadata": {},
   "outputs": [],
   "source": [
    "pred=pd.DataFrame()\n",
    "pred['batter']=normX['batter']\n",
    "pred['predictions']=normX['predictions']"
   ]
  },
  {
   "cell_type": "code",
   "execution_count": null,
   "metadata": {},
   "outputs": [],
   "source": [
    "grouped=pred.groupby('batter')"
   ]
  },
  {
   "cell_type": "code",
   "execution_count": null,
   "metadata": {},
   "outputs": [],
   "source": [
    "predictor=pd.DataFrame()\n",
    "#predictor['batter']=grouped.describe()['batter']\n",
    "predictor['count']=grouped.describe()['predictions']['count']\n",
    "predictor['exba']=grouped.describe()['predictions']['mean']\n",
    "predictor=predictor.reset_index()"
   ]
  },
  {
   "cell_type": "code",
   "execution_count": null,
   "metadata": {},
   "outputs": [],
   "source": [
    "\n",
    "batters=pd.read_csv('../data/batterdat1.csv')\n",
    "strikeouts=pd.read_csv('../data/Strikeouts.csv')\n",
    "batters['Name']=batters['player_name']\n",
    "full=strikeouts.merge(batters,on='Name',how='outer')\n",
    "full=full.dropna()\n",
    "#joiner=pd.DataFrame()\n",
    "#joiner['batter']=full['player_id']\n",
    "#joiner['Name']=full['Name']\n",
    "#joiner['Team']=full['Team']\n",
    "#joiner['AB']=full['AB']\n",
    "#joiner['Batting_Avg']=full['ba']\n",
    "full['batter']=full['player_id']\n",
    "predictor=predictor.merge(full,on='batter',how='inner')\n",
    "#predictor['Ex ABs']=predictor['count']"
   ]
  },
  {
   "cell_type": "code",
   "execution_count": null,
   "metadata": {},
   "outputs": [],
   "source": [
    "predictor.head()"
   ]
  },
  {
   "cell_type": "code",
   "execution_count": null,
   "metadata": {},
   "outputs": [],
   "source": [
    "predictor.head()"
   ]
  },
  {
   "cell_type": "markdown",
   "metadata": {},
   "source": [
    "## Charts"
   ]
  },
  {
   "cell_type": "markdown",
   "metadata": {},
   "source": [
    "### Launch Speed v Vert Angle"
   ]
  },
  {
   "cell_type": "code",
   "execution_count": null,
   "metadata": {},
   "outputs": [],
   "source": [
    "testX=np.linspace(-2,2,40) # (minsd,maxsd,numpoints) Launch Speed\n",
    "testy=np.linspace(-2,2,40) # (minsd,maxsd,numpoints) Launch Angle\n",
    "a=[]\n",
    "b=[]\n",
    "for i in testX:\n",
    "    for z in testy:\n",
    "        a.append(i)\n",
    "        b.append(z)"
   ]
  },
  {
   "cell_type": "code",
   "execution_count": null,
   "metadata": {},
   "outputs": [],
   "source": [
    "defhor=10 #default Horizontal Angle\n",
    "samp=pd.DataFrame()\n",
    "samp['launch_speed']=a\n",
    "samp['launch_angle']=b\n",
    "samp['hor_angle']=np.pi*defhor/(stdhor*180)\n",
    "predictionsb=classifier.predict_proba(samp)\n",
    "test=pd.DataFrame()\n",
    "test['predictions']=predictionsb[:,1]\n",
    "test['regspeed']=samp['launch_speed']*stdspd+meanspd\n",
    "test['reglang']=samp['launch_angle']*stdang+meanang"
   ]
  },
  {
   "cell_type": "code",
   "execution_count": null,
   "metadata": {},
   "outputs": [],
   "source": [
    "plt.figure()\n",
    "color = [[0,0,0]]\n",
    "for i in range(0,800):\n",
    "    colored=test['predictions'][i]\n",
    "    color=[colored,0,colored] # where we change color plots\n",
    "    plt.polar(test.loc[i, 'reglang'], test.loc[i, 'regspeed'],c=color,marker='o')\n",
    "plt.show()"
   ]
  },
  {
   "cell_type": "code",
   "execution_count": null,
   "metadata": {},
   "outputs": [],
   "source": [
    "\n",
    "plt.figure()\n",
    "color = [[0,0,0]]\n",
    "for i in range(2400,2800):\n",
    "    colored=results['predictions'][i]\n",
    "    color=[colored,0,colored] # where we change color plots\n",
    "    plt.polar(results.loc[i, 'launch_angle'], results.loc[i, 'launch_speed'],c=color,marker='o')\n",
    "plt.show()"
   ]
  },
  {
   "cell_type": "markdown",
   "metadata": {},
   "source": [
    "### Launch Speed v Horizontal Angle"
   ]
  },
  {
   "cell_type": "code",
   "execution_count": null,
   "metadata": {},
   "outputs": [],
   "source": [
    "testX=np.linspace(-2,2,40)# (minsd,maxsd,numpoints) Launch Speed\n",
    "testy=np.linspace(-1.5,1.5,30)# (minsd,maxsd,numpoints) Horizontal Angle\n",
    "a=[]\n",
    "b=[]\n",
    "for i in testX:\n",
    "    for z in testy:\n",
    "        a.append(i)\n",
    "        b.append(z)"
   ]
  },
  {
   "cell_type": "code",
   "execution_count": null,
   "metadata": {},
   "outputs": [],
   "source": [
    "deflaunch=20 #default Vertical Launch Angle\n",
    "samp2=pd.DataFrame()\n",
    "samp2['launch_speed']=a\n",
    "samp2['launch_angle']=((np.pi*deflaunch/180)-meanang)/stdang\n",
    "samp2['hor_angle']=b\n",
    "predictionsb=classifier.predict_proba(samp2)\n",
    "test2=pd.DataFrame()\n",
    "test2['predictions']=predictionsb[:,1]\n",
    "test2['regspeed']=samp2['launch_speed']*stdspd+meanspd\n",
    "test2['reghang']=samp2['hor_angle']*stdhor"
   ]
  },
  {
   "cell_type": "code",
   "execution_count": null,
   "metadata": {},
   "outputs": [],
   "source": [
    "plt.figure()\n",
    "color = [[0,0,0]]\n",
    "for i in range(0,800):\n",
    "    colored=test2['predictions'][i]\n",
    "    color=[0,colored,colored] #where we change color plots\n",
    "    plt.polar(test2.loc[i, 'reghang']+np.pi/2, test2.loc[i, 'regspeed'],c=color,marker='o')\n",
    "plt.show()"
   ]
  },
  {
   "cell_type": "code",
   "execution_count": null,
   "metadata": {},
   "outputs": [],
   "source": [
    "plt.figure()\n",
    "color = [[0,0,0]]\n",
    "for i in range(2400,2800):\n",
    "    colored=results['predictions'][i]\n",
    "    color=[0,colored,colored] # where we change color plots\n",
    "    plt.polar(results.loc[i, 'hor_angle']+np.pi/2, results.loc[i, 'launch_speed'],c=color,marker='o')\n",
    "plt.show()"
   ]
  },
  {
   "cell_type": "code",
   "execution_count": null,
   "metadata": {},
   "outputs": [],
   "source": []
  }
 ],
 "metadata": {
  "kernelspec": {
   "display_name": "Python 3",
   "language": "python",
   "name": "python3"
  },
  "language_info": {
   "codemirror_mode": {
    "name": "ipython",
    "version": 3
   },
   "file_extension": ".py",
   "mimetype": "text/x-python",
   "name": "python",
   "nbconvert_exporter": "python",
   "pygments_lexer": "ipython3",
   "version": "3.7.3"
  }
 },
 "nbformat": 4,
 "nbformat_minor": 2
}
