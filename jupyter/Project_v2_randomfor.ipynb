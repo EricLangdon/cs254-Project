{
 "cells": [
  {
   "cell_type": "code",
   "execution_count": 2,
   "metadata": {},
   "outputs": [],
   "source": [
    "import pandas as pd\n",
    "import numpy as np\n",
    "import os\n",
    "import matplotlib.pyplot as plt\n",
    "from sklearn import svm, datasets\n",
    "from sklearn.model_selection import cross_val_score, RandomizedSearchCV\n",
    "from sklearn.preprocessing import MinMaxScaler, LabelEncoder\n",
    "from sklearn.ensemble import RandomForestClassifier\n",
    "from sklearn.tree import DecisionTreeClassifier"
   ]
  },
  {
   "cell_type": "code",
   "execution_count": 4,
   "metadata": {},
   "outputs": [],
   "source": [
    "\n",
    "file = pd.read_csv('../data/Inplaydata19.csv', error_bad_lines=False)\n",
    "dataFrame = pd.DataFrame(file)\n",
    "\n"
   ]
  },
  {
   "cell_type": "code",
   "execution_count": 5,
   "metadata": {},
   "outputs": [],
   "source": [
    "# Single, Double, Triple, HomeRun, (field_out, force_out, fielders_choice) = out, \n",
    "# grounded_into_double_play, sac_fly, sac_bunt,\n",
    "\n",
    "#Transform values into binary classification\n",
    "d = {\n",
    "    'single': 1, \n",
    "    'double': 1, \n",
    "    'triple': 1, \n",
    "    'home_run': 1, \n",
    "    'field_out': 0,\n",
    "    'force_out': 0,\n",
    "    'fielders_choice': 1,\n",
    "    'grounded_into_double_play': 0,\n",
    "    'sac_fly': 0,\n",
    "    'sac_bunt': 0,\n",
    "    'double_play': 0,\n",
    "    'fielders_choice_out': 0,\n",
    "    'catcher_interf': 1,\n",
    "    'triple_play': 0,\n",
    "    'field_error': 1,\n",
    "    'sac_fly_double_play': 0,\n",
    "    'sac_bunt_double_play': 0\n",
    "}\n",
    "\n",
    "dataFrame = dataFrame.replace(d)\n"
   ]
  },
  {
   "cell_type": "code",
   "execution_count": 31,
   "metadata": {},
   "outputs": [
    {
     "name": "stdout",
     "output_type": "stream",
     "text": [
      "        Ones  launch_speed  launch_angle    hc_x    hc_y  vert_rad   hor_rad  \\\n",
      "0          1          40.0         -36.0    2.19    6.18 -0.628319  0.340562   \n",
      "1          1          77.8         -37.3   10.67   37.68 -0.651008  0.275950   \n",
      "2          1          80.6          35.5   48.54  117.45  0.619592  0.391904   \n",
      "3          1         106.6          14.2   59.99  127.42  0.247837  0.440020   \n",
      "4          1          86.9          44.3   -7.50  114.60  0.773181 -0.065352   \n",
      "5          1          57.4           3.9  -23.83   38.71  0.068068 -0.551814   \n",
      "6          1          97.3          25.6  -91.49  159.56  0.446804 -0.520623   \n",
      "7          1          84.5          51.0   72.62   69.71  0.890118  0.805841   \n",
      "8          1          89.5          21.5   10.36  134.90  0.375246  0.076647   \n",
      "9          1          99.7          42.7  -13.07  139.00  0.745256 -0.093753   \n",
      "10         1          73.5         -31.5  -24.10   48.83 -0.549779 -0.458474   \n",
      "11         1         103.1         -10.6   40.58   88.96 -0.185005  0.427965   \n",
      "12         1          75.1          19.6  -77.75   75.84  0.342085 -0.797833   \n",
      "13         1          94.3           1.4  -54.58   85.40  0.024435 -0.568682   \n",
      "14         1          75.4          23.0   32.52   91.06  0.401426  0.343010   \n",
      "15         1          97.1          35.0   -6.07  161.13  0.610865 -0.037654   \n",
      "16         1          78.7          17.8   35.50   80.83  0.310669  0.413831   \n",
      "17         1         100.1          19.2  -30.58  142.55  0.335103 -0.211318   \n",
      "18         1         105.3          10.4   75.82  121.90  0.181514  0.556428   \n",
      "19         1          82.9         -20.7   22.30   23.94 -0.361283  0.749946   \n",
      "20         1          93.8          25.0   -9.74  150.98  0.436332 -0.064423   \n",
      "21         1         103.5           2.2  -39.12   66.35  0.038397 -0.532738   \n",
      "22         1          81.6          -1.6    9.46   45.55 -0.027925  0.204773   \n",
      "23         1          76.6          -5.6  -26.64   34.60 -0.097738 -0.656142   \n",
      "24         1          71.7          28.7   36.26   91.47  0.500909  0.377411   \n",
      "25         1          91.0           2.0   14.51   26.48  0.034907  0.501276   \n",
      "26         1          95.7         -22.4  -57.96   89.46 -0.390954 -0.574889   \n",
      "27         1          65.1          26.1   30.92   75.48  0.455531  0.388793   \n",
      "28         1          80.0          69.0  -32.93   41.31  1.204277 -0.672997   \n",
      "29         1          94.6          29.3   -0.38  161.11  0.511381 -0.002359   \n",
      "...      ...           ...           ...     ...     ...       ...       ...   \n",
      "125737     1          99.0          17.0   61.87   75.71  0.296706  0.685139   \n",
      "125738     1          84.0         -13.0  -16.71   10.82 -0.226893 -0.996169   \n",
      "125739     1          84.0         -13.0   27.90   31.10 -0.226893  0.731214   \n",
      "125740     1          93.0          -1.0   58.83   64.56 -0.017453  0.738993   \n",
      "125741     1          89.0          38.0  -48.14   99.03  0.663225 -0.452478   \n",
      "125742     1          41.0         -39.0    6.10    6.26 -0.680678  0.772454   \n",
      "125743     1          84.0         -13.0  -13.67   47.83 -0.226893 -0.278382   \n",
      "125744     1          99.0          17.0   36.01   98.02  0.296706  0.352068   \n",
      "125745     1         103.0          30.0   24.86  167.47  0.523599  0.147368   \n",
      "125746     1          89.0          38.0   -9.61  126.41  0.663225 -0.075877   \n",
      "125747     1          95.0          29.0  -59.80  130.97  0.506145 -0.428323   \n",
      "125748     1          75.0          60.0  -27.86    3.22  1.047198 -1.455729   \n",
      "125749     1         104.0          24.0 -103.40  112.21  0.418879 -0.744560   \n",
      "125750     1          93.0          -3.0  -55.74   81.79 -0.052360 -0.598203   \n",
      "125751     1          75.0          60.0  -34.45   54.93  1.047198 -0.560152   \n",
      "125752     1          93.0          -3.0   20.30   43.77 -0.052360  0.434261   \n",
      "125753     1          84.0         -13.0   25.88   30.59 -0.226893  0.702184   \n",
      "125754     1          90.0          15.0   34.49   64.05  0.261799  0.493960   \n",
      "125755     1          75.0          60.0    4.58  -13.51  1.047198 -0.326849   \n",
      "125756     1          84.0         -13.0  -22.79   43.27 -0.226893 -0.484773   \n",
      "125757     1          73.0          34.0  -44.59   56.95  0.593412 -0.664269   \n",
      "125758     1          84.0         -13.0   16.75   43.27 -0.226893  0.369340   \n",
      "125759     1          84.0         -13.0  -33.95   32.62 -0.226893 -0.805374   \n",
      "125760     1          75.0          60.0  -45.61   48.33  1.047198 -0.756452   \n",
      "125761     1          84.0         -13.0   18.78   41.74 -0.226893  0.422794   \n",
      "125762     1         103.0          30.0   -3.53  180.14  0.523599 -0.019593   \n",
      "125763     1          89.0          38.0   -8.60  132.49  0.663225 -0.064820   \n",
      "125764     1          90.0          15.0  -36.99   59.49  0.261799 -0.556284   \n",
      "125765     1          75.0          60.0  -41.04   41.74  1.047198 -0.776942   \n",
      "125766     1          91.0          18.0  -74.00   88.38  0.314159 -0.697071   \n",
      "\n",
      "          hor_deg  \n",
      "0       19.512745  \n",
      "1       15.810748  \n",
      "2       22.454439  \n",
      "3       25.211301  \n",
      "4       -3.744384  \n",
      "5      -31.616585  \n",
      "6      -29.829499  \n",
      "7       46.171274  \n",
      "8        4.391560  \n",
      "9       -5.371658  \n",
      "10     -26.268599  \n",
      "11      24.520578  \n",
      "12     -45.712477  \n",
      "13     -32.583056  \n",
      "14      19.653027  \n",
      "15      -2.157395  \n",
      "16      23.710763  \n",
      "17     -12.107658  \n",
      "18      31.881002  \n",
      "19      42.968735  \n",
      "20      -3.691142  \n",
      "21     -30.523627  \n",
      "22      11.732620  \n",
      "23     -37.594192  \n",
      "24      21.624074  \n",
      "25      28.721011  \n",
      "26     -32.938691  \n",
      "27      22.276211  \n",
      "28     -38.559875  \n",
      "29      -0.135140  \n",
      "...           ...  \n",
      "125737  39.255598  \n",
      "125738 -57.076279  \n",
      "125739  41.895474  \n",
      "125740  42.341202  \n",
      "125741 -25.925097  \n",
      "125742  44.258348  \n",
      "125743 -15.950142  \n",
      "125744  20.172020  \n",
      "125745   8.443583  \n",
      "125746  -4.347404  \n",
      "125747 -24.541113  \n",
      "125748 -83.407127  \n",
      "125749 -42.660149  \n",
      "125750 -34.274485  \n",
      "125751 -32.094368  \n",
      "125752  24.881304  \n",
      "125753  40.232160  \n",
      "125754  28.301823  \n",
      "125755 -18.727077  \n",
      "125756 -27.775456  \n",
      "125757 -38.059790  \n",
      "125758  21.161631  \n",
      "125759 -46.144558  \n",
      "125760 -43.341484  \n",
      "125761  24.224321  \n",
      "125762  -1.122617  \n",
      "125763  -3.713891  \n",
      "125764 -31.872736  \n",
      "125765 -44.515510  \n",
      "125766 -39.939219  \n",
      "\n",
      "[125386 rows x 8 columns]\n"
     ]
    }
   ],
   "source": [
    "X = pd.DataFrame()\n",
    "X['launch_speed'] = dataFrame['launch_speed']\n",
    "X['launch_angle'] = dataFrame['launch_angle']\n",
    "X['hc_x']=125-dataFrame['hc_x']\n",
    "X['hc_y']=198-dataFrame['hc_y']\n",
    "X['events'] = dataFrame['events']\n",
    "X.insert(0, 'Ones', 1)\n",
    "\n",
    "X=X[X['hc_y']!=0]\n",
    "\n",
    "\n",
    "X = X.dropna()\n",
    "\n",
    "y = X['events']\n",
    "\n",
    "X = X.iloc[:, 0:-1]\n",
    "\n",
    "X['vert_rad'] = X['launch_angle']*np.pi/180\n",
    "X['hor_rad']=np.arctan(X['hc_x']/X['hc_y'])\n",
    "X['hor_deg']=X['hor_rad']*(180/np.pi)\n",
    "\n",
    "print(X)"
   ]
  },
  {
   "cell_type": "code",
   "execution_count": 32,
   "metadata": {},
   "outputs": [
    {
     "data": {
      "image/png": "[encoded data removed]",
      "text/plain": [
       "<Figure size 432x288 with 1 Axes>"
      ]
     },
     "metadata": {
      "needs_background": "light"
     },
     "output_type": "display_data"
    }
   ],
   "source": [
    "plt.figure()\n",
    "color = [[0,0,0]]\n",
    "for i in range(800):\n",
    "    if y[i] == 0:\n",
    "        plt.polar(X.loc[i, 'vert_rad'], X.loc[i, 'launch_speed'], 'ro')\n",
    "    elif y[i] == 1:\n",
    "        plt.polar(X.loc[i, 'vert_rad'], X.loc[i, 'launch_speed'], 'bo')\n",
    "     \n",
    "    \n",
    "plt.show()\n"
   ]
  },
  {
   "cell_type": "code",
   "execution_count": 8,
   "metadata": {},
   "outputs": [
    {
     "data": {
      "image/png": "[encoded data removed]",
      "text/plain": [
       "<Figure size 432x288 with 1 Axes>"
      ]
     },
     "metadata": {
      "needs_background": "light"
     },
     "output_type": "display_data"
    }
   ],
   "source": [
    "plt.figure()\n",
    "color = [[0,0,0]]\n",
    "for i in range(800):\n",
    "    if y[i] == 0:\n",
    "        marker=\"o\"\n",
    "        #color = [[0,0,0]]\n",
    "    elif y[i] == 1:\n",
    "        marker=\"+\"\n",
    "        #color = [[0,1,0]]\n",
    "    \n",
    "    colored= X['estimated_ba_using_speedangle'][i]\n",
    "    color=[[0,colored,0]]\n",
    "    plt.scatter(X.loc[i, 'launch_speed'], X.loc[i, 'launch_angle'], c=color, marker=marker) \n",
    "    \n",
    "plt.show()"
   ]
  },
  {
   "cell_type": "code",
   "execution_count": 21,
   "metadata": {},
   "outputs": [
    {
     "name": "stdout",
     "output_type": "stream",
     "text": [
      "      Ones  launch_speed  launch_angle   hor_rad    hor_deg\n",
      "0        1     -3.367050     -1.843055  0.726349  19.512745\n",
      "1        1     -0.664872     -1.890281  0.598217  15.810748\n",
      "2        1     -0.464710      0.754373  0.828165  22.454439\n",
      "3        1      1.393931     -0.019406  0.923584  25.211301\n",
      "4        1     -0.014347      1.074057 -0.078615  -3.744384\n",
      "5        1     -2.123190     -0.393581 -1.043314 -31.616585\n",
      "6        1      0.729109      0.394729 -0.981460 -29.829499\n",
      "7        1     -0.185914      1.317452  1.649041  46.171274\n",
      "8        1      0.171517      0.245786  0.202982   4.391560\n",
      "9        1      0.900676      1.015932 -0.134938  -5.371658\n",
      "10       1     -0.972262     -1.679581 -0.858212 -26.268599\n",
      "11       1      1.143729     -0.920332  0.899677  24.520578\n",
      "12       1     -0.857884      0.176763 -1.531194 -45.712477\n",
      "13       1      0.514651     -0.484400 -1.076765 -32.583056\n",
      "14       1     -0.836439      0.300277  0.731204  19.653027\n",
      "15       1      0.714812      0.736209 -0.023687  -2.157395\n",
      "16       1     -0.600534      0.111373  0.871649  23.710763\n",
      "17       1      0.929270      0.162232 -0.368081 -12.107658\n",
      "18       1      1.300999     -0.157451  1.154433  31.881002\n",
      "19       1     -0.300292     -1.287242  1.538196  42.968735\n",
      "20       1      0.478907      0.372933 -0.076773  -3.691142\n",
      "21       1      1.172324     -0.455338 -1.005485 -30.523627\n",
      "22       1     -0.393224     -0.593383  0.457067  11.732620\n",
      "23       1     -0.750655     -0.738694 -1.250208 -37.594192\n",
      "24       1     -1.100937      0.507345  0.799425  21.624074\n",
      "25       1      0.278746     -0.462604  1.045061  28.721011\n",
      "26       1      0.614731     -1.348999 -1.089074 -32.938691\n",
      "27       1     -1.572746      0.412893  0.821997  22.276211\n",
      "28       1     -0.507602      1.971350 -1.283632 -38.559875\n",
      "29       1      0.536096      0.529142  0.046306  -0.135140\n",
      "...    ...           ...           ...       ...        ...\n",
      "971      1      0.965014     -0.615180  1.354492  37.661149\n",
      "972      1     -0.843587      0.797966  0.816636  22.121347\n",
      "973      1     -0.357481      0.529142 -0.553092 -17.453029\n",
      "974      1      0.807744      1.426435 -1.380968 -41.372120\n",
      "975      1     -0.400373     -1.970202 -1.090818 -32.989085\n",
      "976      1      0.178665      0.445588  0.159461   3.134150\n",
      "977      1      0.986459      0.758006  0.283782   6.726037\n",
      "978      1      1.086540     -0.055734 -0.237820  -8.344144\n",
      "979      1      0.700515      0.714413  0.740539  19.922727\n",
      "980      1      0.450313     -0.862208  1.454790  40.558957\n",
      "981      1     -0.014347     -1.065643 -0.854916 -26.173367\n",
      "982      1     -0.107279     -1.614191  0.515538  13.421963\n",
      "983      1     -0.714912      1.691627  1.540172  43.025839\n",
      "984      1      1.401079      0.398362 -1.005891 -30.535350\n",
      "985      1      0.621880      1.306554 -1.115791 -33.710596\n",
      "986      1     -0.521899     -0.059367  1.679762  47.058878\n",
      "987      1     -0.085833      0.096842  0.063828   0.371118\n",
      "988      1     -1.072343     -0.814982  0.340274   8.358229\n",
      "989      1     -0.371778      0.888785  0.652338  17.374416\n",
      "990      1      0.800595      0.801599  0.649351  17.288099\n",
      "992      1     -0.014347     -0.953027  1.112638  30.673448\n",
      "993      1     -0.350332     -0.564321  0.577556  15.213810\n",
      "994      1     -0.436116     -1.192790  0.781921  21.118353\n",
      "995      1      0.721961      0.213091 -0.060466  -3.220002\n",
      "996      1     -0.621980      0.256684 -1.295245 -38.895406\n",
      "997      1     -0.300292     -1.287242  1.551338  43.348451\n",
      "998      1     -0.071536     -0.586118  0.820087  22.221032\n",
      "999      1      0.514651     -1.105604  1.305493  36.245445\n",
      "1000     1      0.393124     -0.132022 -0.101996  -4.419916\n",
      "1001     1      0.700515     -0.262802 -0.991467 -30.118620\n",
      "\n",
      "[1000 rows x 5 columns]\n",
      "0.7050928092809281\n"
     ]
    }
   ],
   "source": [
    "#Trim data\n",
    "sliceX = X.iloc[0:1000, 0:3]\n",
    "sliceX['hor_rad'] = X['hor_rad'].iloc[0:1000]\n",
    "sliceX['hor_deg'] = X['hor_deg'].iloc[0:1000]\n",
    "slicey = y.iloc[0:1000]\n",
    "\n",
    "\n",
    "\n",
    "sliceX.iloc[0:1000,1:4] = (sliceX.iloc[0:1000,1:4]-np.mean(sliceX.iloc[0:1000,1:4]))/(np.std(sliceX.iloc[0:1000,1:4]))\n",
    "\n",
    "print(sliceX)\n",
    "\n",
    "\n",
    "C = 10\n",
    "rbf_svc = svm.SVC(kernel='rbf', C=C, gamma='auto')\n",
    "scoresRBF = cross_val_score(rbf_svc, sliceX, slicey, cv=10, scoring='accuracy')\n",
    "print(np.mean(scoresRBF))"
   ]
  },
  {
   "cell_type": "code",
   "execution_count": 36,
   "metadata": {},
   "outputs": [],
   "source": [
    "testX = X.iloc[10000:11000, 0:3]\n",
    "testX['hor_rad'] = X['hor_rad'].iloc[10000:11000]\n",
    "testX['hor_deg'] = X['hor_deg'].iloc[10000:11000]\n",
    "testy = y.iloc[10000:11000]\n",
    "testX.iloc[10000:11000,1:4] = (testX.iloc[10000:11000,1:4]-np.mean(testX.iloc[10000:11000,1:4]))/(np.std(testX.iloc[10000:10000,1:4]))\n"
   ]
  },
  {
   "cell_type": "code",
   "execution_count": 22,
   "metadata": {},
   "outputs": [
    {
     "name": "stdout",
     "output_type": "stream",
     "text": [
      "Fitting 10 folds for each of 25 candidates, totalling 250 fits\n",
      "[CV] kernel=rbf, gamma=0.0, class_weight=balanced, C=92.0 ............\n",
      "[CV]  kernel=rbf, gamma=0.0, class_weight=balanced, C=92.0, total=   0.1s\n",
      "[CV] kernel=rbf, gamma=0.0, class_weight=balanced, C=92.0 ............\n",
      "[CV]  kernel=rbf, gamma=0.0, class_weight=balanced, C=92.0, total=   0.0s\n",
      "[CV] kernel=rbf, gamma=0.0, class_weight=balanced, C=92.0 ............\n",
      "[CV]  kernel=rbf, gamma=0.0, class_weight=balanced, C=92.0, total=   0.0s\n",
      "[CV] kernel=rbf, gamma=0.0, class_weight=balanced, C=92.0 ............\n",
      "[CV]  kernel=rbf, gamma=0.0, class_weight=balanced, C=92.0, total=   0.0s\n",
      "[CV] kernel=rbf, gamma=0.0, class_weight=balanced, C=92.0 ............\n"
     ]
    },
    {
     "name": "stderr",
     "output_type": "stream",
     "text": [
      "[Parallel(n_jobs=1)]: Using backend SequentialBackend with 1 concurrent workers.\n",
      "[Parallel(n_jobs=1)]: Done   1 out of   1 | elapsed:    0.0s remaining:    0.0s\n"
     ]
    },
    {
     "name": "stdout",
     "output_type": "stream",
     "text": [
      "[CV]  kernel=rbf, gamma=0.0, class_weight=balanced, C=92.0, total=   0.0s\n",
      "[CV] kernel=rbf, gamma=0.0, class_weight=balanced, C=92.0 ............\n",
      "[CV]  kernel=rbf, gamma=0.0, class_weight=balanced, C=92.0, total=   0.0s\n",
      "[CV] kernel=rbf, gamma=0.0, class_weight=balanced, C=92.0 ............\n",
      "[CV]  kernel=rbf, gamma=0.0, class_weight=balanced, C=92.0, total=   0.0s\n",
      "[CV] kernel=rbf, gamma=0.0, class_weight=balanced, C=92.0 ............\n",
      "[CV]  kernel=rbf, gamma=0.0, class_weight=balanced, C=92.0, total=   0.0s\n",
      "[CV] kernel=rbf, gamma=0.0, class_weight=balanced, C=92.0 ............\n",
      "[CV]  kernel=rbf, gamma=0.0, class_weight=balanced, C=92.0, total=   0.0s\n",
      "[CV] kernel=rbf, gamma=0.0, class_weight=balanced, C=92.0 ............\n",
      "[CV]  kernel=rbf, gamma=0.0, class_weight=balanced, C=92.0, total=   0.0s\n",
      "[CV] kernel=sigmoid, gamma=2.9797979797979797, class_weight=balanced, C=30.0 \n",
      "[CV]  kernel=sigmoid, gamma=2.9797979797979797, class_weight=balanced, C=30.0, total=   0.0s\n",
      "[CV] kernel=sigmoid, gamma=2.9797979797979797, class_weight=balanced, C=30.0 \n",
      "[CV]  kernel=sigmoid, gamma=2.9797979797979797, class_weight=balanced, C=30.0, total=   0.0s\n",
      "[CV] kernel=sigmoid, gamma=2.9797979797979797, class_weight=balanced, C=30.0 \n",
      "[CV]  kernel=sigmoid, gamma=2.9797979797979797, class_weight=balanced, C=30.0, total=   0.0s\n",
      "[CV] kernel=sigmoid, gamma=2.9797979797979797, class_weight=balanced, C=30.0 \n",
      "[CV]  kernel=sigmoid, gamma=2.9797979797979797, class_weight=balanced, C=30.0, total=   0.0s\n",
      "[CV] kernel=sigmoid, gamma=2.9797979797979797, class_weight=balanced, C=30.0 \n",
      "[CV]  kernel=sigmoid, gamma=2.9797979797979797, class_weight=balanced, C=30.0, total=   0.0s\n",
      "[CV] kernel=sigmoid, gamma=2.9797979797979797, class_weight=balanced, C=30.0 \n",
      "[CV]  kernel=sigmoid, gamma=2.9797979797979797, class_weight=balanced, C=30.0, total=   0.0s\n",
      "[CV] kernel=sigmoid, gamma=2.9797979797979797, class_weight=balanced, C=30.0 \n",
      "[CV]  kernel=sigmoid, gamma=2.9797979797979797, class_weight=balanced, C=30.0, total=   0.0s\n",
      "[CV] kernel=sigmoid, gamma=2.9797979797979797, class_weight=balanced, C=30.0 \n",
      "[CV]  kernel=sigmoid, gamma=2.9797979797979797, class_weight=balanced, C=30.0, total=   0.0s\n",
      "[CV] kernel=sigmoid, gamma=2.9797979797979797, class_weight=balanced, C=30.0 \n",
      "[CV]  kernel=sigmoid, gamma=2.9797979797979797, class_weight=balanced, C=30.0, total=   0.0s\n",
      "[CV] kernel=sigmoid, gamma=2.9797979797979797, class_weight=balanced, C=30.0 \n",
      "[CV]  kernel=sigmoid, gamma=2.9797979797979797, class_weight=balanced, C=30.0, total=   0.0s\n",
      "[CV] kernel=rbf, gamma=1.6161616161616161, class_weight=None, C=72.0 .\n",
      "[CV]  kernel=rbf, gamma=1.6161616161616161, class_weight=None, C=72.0, total=   0.1s\n",
      "[CV] kernel=rbf, gamma=1.6161616161616161, class_weight=None, C=72.0 .\n",
      "[CV]  kernel=rbf, gamma=1.6161616161616161, class_weight=None, C=72.0, total=   0.1s\n",
      "[CV] kernel=rbf, gamma=1.6161616161616161, class_weight=None, C=72.0 .\n",
      "[CV]  kernel=rbf, gamma=1.6161616161616161, class_weight=None, C=72.0, total=   0.1s\n",
      "[CV] kernel=rbf, gamma=1.6161616161616161, class_weight=None, C=72.0 .\n",
      "[CV]  kernel=rbf, gamma=1.6161616161616161, class_weight=None, C=72.0, total=   0.1s\n",
      "[CV] kernel=rbf, gamma=1.6161616161616161, class_weight=None, C=72.0 .\n",
      "[CV]  kernel=rbf, gamma=1.6161616161616161, class_weight=None, C=72.0, total=   0.1s\n",
      "[CV] kernel=rbf, gamma=1.6161616161616161, class_weight=None, C=72.0 .\n",
      "[CV]  kernel=rbf, gamma=1.6161616161616161, class_weight=None, C=72.0, total=   0.1s\n",
      "[CV] kernel=rbf, gamma=1.6161616161616161, class_weight=None, C=72.0 .\n",
      "[CV]  kernel=rbf, gamma=1.6161616161616161, class_weight=None, C=72.0, total=   0.1s\n",
      "[CV] kernel=rbf, gamma=1.6161616161616161, class_weight=None, C=72.0 .\n",
      "[CV]  kernel=rbf, gamma=1.6161616161616161, class_weight=None, C=72.0, total=   0.1s\n",
      "[CV] kernel=rbf, gamma=1.6161616161616161, class_weight=None, C=72.0 .\n",
      "[CV]  kernel=rbf, gamma=1.6161616161616161, class_weight=None, C=72.0, total=   0.1s\n",
      "[CV] kernel=rbf, gamma=1.6161616161616161, class_weight=None, C=72.0 .\n",
      "[CV]  kernel=rbf, gamma=1.6161616161616161, class_weight=None, C=72.0, total=   0.1s\n",
      "[CV] kernel=rbf, gamma=4.090909090909091, class_weight=balanced, C=17.0 \n",
      "[CV]  kernel=rbf, gamma=4.090909090909091, class_weight=balanced, C=17.0, total=   0.1s\n",
      "[CV] kernel=rbf, gamma=4.090909090909091, class_weight=balanced, C=17.0 \n",
      "[CV]  kernel=rbf, gamma=4.090909090909091, class_weight=balanced, C=17.0, total=   0.1s\n",
      "[CV] kernel=rbf, gamma=4.090909090909091, class_weight=balanced, C=17.0 \n",
      "[CV]  kernel=rbf, gamma=4.090909090909091, class_weight=balanced, C=17.0, total=   0.1s\n",
      "[CV] kernel=rbf, gamma=4.090909090909091, class_weight=balanced, C=17.0 \n",
      "[CV]  kernel=rbf, gamma=4.090909090909091, class_weight=balanced, C=17.0, total=   0.1s\n",
      "[CV] kernel=rbf, gamma=4.090909090909091, class_weight=balanced, C=17.0 \n",
      "[CV]  kernel=rbf, gamma=4.090909090909091, class_weight=balanced, C=17.0, total=   0.1s\n",
      "[CV] kernel=rbf, gamma=4.090909090909091, class_weight=balanced, C=17.0 \n",
      "[CV]  kernel=rbf, gamma=4.090909090909091, class_weight=balanced, C=17.0, total=   0.1s\n",
      "[CV] kernel=rbf, gamma=4.090909090909091, class_weight=balanced, C=17.0 \n",
      "[CV]  kernel=rbf, gamma=4.090909090909091, class_weight=balanced, C=17.0, total=   0.1s\n",
      "[CV] kernel=rbf, gamma=4.090909090909091, class_weight=balanced, C=17.0 \n",
      "[CV]  kernel=rbf, gamma=4.090909090909091, class_weight=balanced, C=17.0, total=   0.1s\n",
      "[CV] kernel=rbf, gamma=4.090909090909091, class_weight=balanced, C=17.0 \n",
      "[CV]  kernel=rbf, gamma=4.090909090909091, class_weight=balanced, C=17.0, total=   0.1s\n",
      "[CV] kernel=rbf, gamma=4.090909090909091, class_weight=balanced, C=17.0 \n",
      "[CV]  kernel=rbf, gamma=4.090909090909091, class_weight=balanced, C=17.0, total=   0.1s\n",
      "[CV] kernel=linear, gamma=4.696969696969697, class_weight=None, C=42.0 \n",
      "[CV]  kernel=linear, gamma=4.696969696969697, class_weight=None, C=42.0, total= 1.5min\n",
      "[CV] kernel=linear, gamma=4.696969696969697, class_weight=None, C=42.0 \n",
      "[CV]  kernel=linear, gamma=4.696969696969697, class_weight=None, C=42.0, total= 1.9min\n",
      "[CV] kernel=linear, gamma=4.696969696969697, class_weight=None, C=42.0 \n"
     ]
    },
    {
     "ename": "KeyboardInterrupt",
     "evalue": "",
     "output_type": "error",
     "traceback": [
      "\u001b[1;31m---------------------------------------------------------------------------\u001b[0m",
      "\u001b[1;31mKeyboardInterrupt\u001b[0m                         Traceback (most recent call last)",
      "\u001b[1;32m<ipython-input-22-b0388b5a0600>\u001b[0m in \u001b[0;36m<module>\u001b[1;34m\u001b[0m\n\u001b[0;32m      7\u001b[0m \u001b[1;33m\u001b[0m\u001b[0m\n\u001b[0;32m      8\u001b[0m \u001b[0mrs\u001b[0m \u001b[1;33m=\u001b[0m \u001b[0mRandomizedSearchCV\u001b[0m\u001b[1;33m(\u001b[0m\u001b[0msvm\u001b[0m\u001b[1;33m.\u001b[0m\u001b[0mSVC\u001b[0m\u001b[1;33m(\u001b[0m\u001b[1;33m)\u001b[0m\u001b[1;33m,\u001b[0m \u001b[0mhyperparams\u001b[0m\u001b[1;33m,\u001b[0m \u001b[0mcv\u001b[0m\u001b[1;33m=\u001b[0m\u001b[1;36m10\u001b[0m\u001b[1;33m,\u001b[0m \u001b[0mn_iter\u001b[0m\u001b[1;33m=\u001b[0m\u001b[1;36m25\u001b[0m\u001b[1;33m,\u001b[0m \u001b[0mverbose\u001b[0m\u001b[1;33m=\u001b[0m\u001b[1;36m2\u001b[0m\u001b[1;33m,\u001b[0m \u001b[0mscoring\u001b[0m\u001b[1;33m=\u001b[0m\u001b[1;34m'accuracy'\u001b[0m\u001b[1;33m)\u001b[0m\u001b[1;33m\u001b[0m\u001b[1;33m\u001b[0m\u001b[0m\n\u001b[1;32m----> 9\u001b[1;33m \u001b[0mrs\u001b[0m\u001b[1;33m.\u001b[0m\u001b[0mfit\u001b[0m\u001b[1;33m(\u001b[0m\u001b[0msliceX\u001b[0m\u001b[1;33m,\u001b[0m \u001b[0mslicey\u001b[0m\u001b[1;33m)\u001b[0m\u001b[1;33m\u001b[0m\u001b[1;33m\u001b[0m\u001b[0m\n\u001b[0m\u001b[0;32m     10\u001b[0m \u001b[0mprint\u001b[0m\u001b[1;33m(\u001b[0m\u001b[0mrs\u001b[0m\u001b[1;33m.\u001b[0m\u001b[0mbest_params_\u001b[0m\u001b[1;33m)\u001b[0m\u001b[1;33m\u001b[0m\u001b[1;33m\u001b[0m\u001b[0m\n",
      "\u001b[1;32m~\\Anaconda3\\lib\\site-packages\\sklearn\\model_selection\\_search.py\u001b[0m in \u001b[0;36mfit\u001b[1;34m(self, X, y, groups, **fit_params)\u001b[0m\n\u001b[0;32m    685\u001b[0m                 \u001b[1;32mreturn\u001b[0m \u001b[0mresults\u001b[0m\u001b[1;33m\u001b[0m\u001b[1;33m\u001b[0m\u001b[0m\n\u001b[0;32m    686\u001b[0m \u001b[1;33m\u001b[0m\u001b[0m\n\u001b[1;32m--> 687\u001b[1;33m             \u001b[0mself\u001b[0m\u001b[1;33m.\u001b[0m\u001b[0m_run_search\u001b[0m\u001b[1;33m(\u001b[0m\u001b[0mevaluate_candidates\u001b[0m\u001b[1;33m)\u001b[0m\u001b[1;33m\u001b[0m\u001b[1;33m\u001b[0m\u001b[0m\n\u001b[0m\u001b[0;32m    688\u001b[0m \u001b[1;33m\u001b[0m\u001b[0m\n\u001b[0;32m    689\u001b[0m         \u001b[1;31m# For multi-metric evaluation, store the best_index_, best_params_ and\u001b[0m\u001b[1;33m\u001b[0m\u001b[1;33m\u001b[0m\u001b[1;33m\u001b[0m\u001b[0m\n",
      "\u001b[1;32m~\\Anaconda3\\lib\\site-packages\\sklearn\\model_selection\\_search.py\u001b[0m in \u001b[0;36m_run_search\u001b[1;34m(self, evaluate_candidates)\u001b[0m\n\u001b[0;32m   1466\u001b[0m         evaluate_candidates(ParameterSampler(\n\u001b[0;32m   1467\u001b[0m             \u001b[0mself\u001b[0m\u001b[1;33m.\u001b[0m\u001b[0mparam_distributions\u001b[0m\u001b[1;33m,\u001b[0m \u001b[0mself\u001b[0m\u001b[1;33m.\u001b[0m\u001b[0mn_iter\u001b[0m\u001b[1;33m,\u001b[0m\u001b[1;33m\u001b[0m\u001b[1;33m\u001b[0m\u001b[0m\n\u001b[1;32m-> 1468\u001b[1;33m             random_state=self.random_state))\n\u001b[0m",
      "\u001b[1;32m~\\Anaconda3\\lib\\site-packages\\sklearn\\model_selection\\_search.py\u001b[0m in \u001b[0;36mevaluate_candidates\u001b[1;34m(candidate_params)\u001b[0m\n\u001b[0;32m    664\u001b[0m                                \u001b[1;32mfor\u001b[0m \u001b[0mparameters\u001b[0m\u001b[1;33m,\u001b[0m \u001b[1;33m(\u001b[0m\u001b[0mtrain\u001b[0m\u001b[1;33m,\u001b[0m \u001b[0mtest\u001b[0m\u001b[1;33m)\u001b[0m\u001b[1;33m\u001b[0m\u001b[1;33m\u001b[0m\u001b[0m\n\u001b[0;32m    665\u001b[0m                                in product(candidate_params,\n\u001b[1;32m--> 666\u001b[1;33m                                           cv.split(X, y, groups)))\n\u001b[0m\u001b[0;32m    667\u001b[0m \u001b[1;33m\u001b[0m\u001b[0m\n\u001b[0;32m    668\u001b[0m                 \u001b[1;32mif\u001b[0m \u001b[0mlen\u001b[0m\u001b[1;33m(\u001b[0m\u001b[0mout\u001b[0m\u001b[1;33m)\u001b[0m \u001b[1;33m<\u001b[0m \u001b[1;36m1\u001b[0m\u001b[1;33m:\u001b[0m\u001b[1;33m\u001b[0m\u001b[1;33m\u001b[0m\u001b[0m\n",
      "\u001b[1;32m~\\Anaconda3\\lib\\site-packages\\joblib\\parallel.py\u001b[0m in \u001b[0;36m__call__\u001b[1;34m(self, iterable)\u001b[0m\n\u001b[0;32m    922\u001b[0m                 \u001b[0mself\u001b[0m\u001b[1;33m.\u001b[0m\u001b[0m_iterating\u001b[0m \u001b[1;33m=\u001b[0m \u001b[0mself\u001b[0m\u001b[1;33m.\u001b[0m\u001b[0m_original_iterator\u001b[0m \u001b[1;32mis\u001b[0m \u001b[1;32mnot\u001b[0m \u001b[1;32mNone\u001b[0m\u001b[1;33m\u001b[0m\u001b[1;33m\u001b[0m\u001b[0m\n\u001b[0;32m    923\u001b[0m \u001b[1;33m\u001b[0m\u001b[0m\n\u001b[1;32m--> 924\u001b[1;33m             \u001b[1;32mwhile\u001b[0m \u001b[0mself\u001b[0m\u001b[1;33m.\u001b[0m\u001b[0mdispatch_one_batch\u001b[0m\u001b[1;33m(\u001b[0m\u001b[0miterator\u001b[0m\u001b[1;33m)\u001b[0m\u001b[1;33m:\u001b[0m\u001b[1;33m\u001b[0m\u001b[1;33m\u001b[0m\u001b[0m\n\u001b[0m\u001b[0;32m    925\u001b[0m                 \u001b[1;32mpass\u001b[0m\u001b[1;33m\u001b[0m\u001b[1;33m\u001b[0m\u001b[0m\n\u001b[0;32m    926\u001b[0m \u001b[1;33m\u001b[0m\u001b[0m\n",
      "\u001b[1;32m~\\Anaconda3\\lib\\site-packages\\joblib\\parallel.py\u001b[0m in \u001b[0;36mdispatch_one_batch\u001b[1;34m(self, iterator)\u001b[0m\n\u001b[0;32m    757\u001b[0m                 \u001b[1;32mreturn\u001b[0m \u001b[1;32mFalse\u001b[0m\u001b[1;33m\u001b[0m\u001b[1;33m\u001b[0m\u001b[0m\n\u001b[0;32m    758\u001b[0m             \u001b[1;32melse\u001b[0m\u001b[1;33m:\u001b[0m\u001b[1;33m\u001b[0m\u001b[1;33m\u001b[0m\u001b[0m\n\u001b[1;32m--> 759\u001b[1;33m                 \u001b[0mself\u001b[0m\u001b[1;33m.\u001b[0m\u001b[0m_dispatch\u001b[0m\u001b[1;33m(\u001b[0m\u001b[0mtasks\u001b[0m\u001b[1;33m)\u001b[0m\u001b[1;33m\u001b[0m\u001b[1;33m\u001b[0m\u001b[0m\n\u001b[0m\u001b[0;32m    760\u001b[0m                 \u001b[1;32mreturn\u001b[0m \u001b[1;32mTrue\u001b[0m\u001b[1;33m\u001b[0m\u001b[1;33m\u001b[0m\u001b[0m\n\u001b[0;32m    761\u001b[0m \u001b[1;33m\u001b[0m\u001b[0m\n",
      "\u001b[1;32m~\\Anaconda3\\lib\\site-packages\\joblib\\parallel.py\u001b[0m in \u001b[0;36m_dispatch\u001b[1;34m(self, batch)\u001b[0m\n\u001b[0;32m    714\u001b[0m         \u001b[1;32mwith\u001b[0m \u001b[0mself\u001b[0m\u001b[1;33m.\u001b[0m\u001b[0m_lock\u001b[0m\u001b[1;33m:\u001b[0m\u001b[1;33m\u001b[0m\u001b[1;33m\u001b[0m\u001b[0m\n\u001b[0;32m    715\u001b[0m             \u001b[0mjob_idx\u001b[0m \u001b[1;33m=\u001b[0m \u001b[0mlen\u001b[0m\u001b[1;33m(\u001b[0m\u001b[0mself\u001b[0m\u001b[1;33m.\u001b[0m\u001b[0m_jobs\u001b[0m\u001b[1;33m)\u001b[0m\u001b[1;33m\u001b[0m\u001b[1;33m\u001b[0m\u001b[0m\n\u001b[1;32m--> 716\u001b[1;33m             \u001b[0mjob\u001b[0m \u001b[1;33m=\u001b[0m \u001b[0mself\u001b[0m\u001b[1;33m.\u001b[0m\u001b[0m_backend\u001b[0m\u001b[1;33m.\u001b[0m\u001b[0mapply_async\u001b[0m\u001b[1;33m(\u001b[0m\u001b[0mbatch\u001b[0m\u001b[1;33m,\u001b[0m \u001b[0mcallback\u001b[0m\u001b[1;33m=\u001b[0m\u001b[0mcb\u001b[0m\u001b[1;33m)\u001b[0m\u001b[1;33m\u001b[0m\u001b[1;33m\u001b[0m\u001b[0m\n\u001b[0m\u001b[0;32m    717\u001b[0m             \u001b[1;31m# A job can complete so quickly than its callback is\u001b[0m\u001b[1;33m\u001b[0m\u001b[1;33m\u001b[0m\u001b[1;33m\u001b[0m\u001b[0m\n\u001b[0;32m    718\u001b[0m             \u001b[1;31m# called before we get here, causing self._jobs to\u001b[0m\u001b[1;33m\u001b[0m\u001b[1;33m\u001b[0m\u001b[1;33m\u001b[0m\u001b[0m\n",
      "\u001b[1;32m~\\Anaconda3\\lib\\site-packages\\joblib\\_parallel_backends.py\u001b[0m in \u001b[0;36mapply_async\u001b[1;34m(self, func, callback)\u001b[0m\n\u001b[0;32m    180\u001b[0m     \u001b[1;32mdef\u001b[0m \u001b[0mapply_async\u001b[0m\u001b[1;33m(\u001b[0m\u001b[0mself\u001b[0m\u001b[1;33m,\u001b[0m \u001b[0mfunc\u001b[0m\u001b[1;33m,\u001b[0m \u001b[0mcallback\u001b[0m\u001b[1;33m=\u001b[0m\u001b[1;32mNone\u001b[0m\u001b[1;33m)\u001b[0m\u001b[1;33m:\u001b[0m\u001b[1;33m\u001b[0m\u001b[1;33m\u001b[0m\u001b[0m\n\u001b[0;32m    181\u001b[0m         \u001b[1;34m\"\"\"Schedule a func to be run\"\"\"\u001b[0m\u001b[1;33m\u001b[0m\u001b[1;33m\u001b[0m\u001b[0m\n\u001b[1;32m--> 182\u001b[1;33m         \u001b[0mresult\u001b[0m \u001b[1;33m=\u001b[0m \u001b[0mImmediateResult\u001b[0m\u001b[1;33m(\u001b[0m\u001b[0mfunc\u001b[0m\u001b[1;33m)\u001b[0m\u001b[1;33m\u001b[0m\u001b[1;33m\u001b[0m\u001b[0m\n\u001b[0m\u001b[0;32m    183\u001b[0m         \u001b[1;32mif\u001b[0m \u001b[0mcallback\u001b[0m\u001b[1;33m:\u001b[0m\u001b[1;33m\u001b[0m\u001b[1;33m\u001b[0m\u001b[0m\n\u001b[0;32m    184\u001b[0m             \u001b[0mcallback\u001b[0m\u001b[1;33m(\u001b[0m\u001b[0mresult\u001b[0m\u001b[1;33m)\u001b[0m\u001b[1;33m\u001b[0m\u001b[1;33m\u001b[0m\u001b[0m\n",
      "\u001b[1;32m~\\Anaconda3\\lib\\site-packages\\joblib\\_parallel_backends.py\u001b[0m in \u001b[0;36m__init__\u001b[1;34m(self, batch)\u001b[0m\n\u001b[0;32m    547\u001b[0m         \u001b[1;31m# Don't delay the application, to avoid keeping the input\u001b[0m\u001b[1;33m\u001b[0m\u001b[1;33m\u001b[0m\u001b[1;33m\u001b[0m\u001b[0m\n\u001b[0;32m    548\u001b[0m         \u001b[1;31m# arguments in memory\u001b[0m\u001b[1;33m\u001b[0m\u001b[1;33m\u001b[0m\u001b[1;33m\u001b[0m\u001b[0m\n\u001b[1;32m--> 549\u001b[1;33m         \u001b[0mself\u001b[0m\u001b[1;33m.\u001b[0m\u001b[0mresults\u001b[0m \u001b[1;33m=\u001b[0m \u001b[0mbatch\u001b[0m\u001b[1;33m(\u001b[0m\u001b[1;33m)\u001b[0m\u001b[1;33m\u001b[0m\u001b[1;33m\u001b[0m\u001b[0m\n\u001b[0m\u001b[0;32m    550\u001b[0m \u001b[1;33m\u001b[0m\u001b[0m\n\u001b[0;32m    551\u001b[0m     \u001b[1;32mdef\u001b[0m \u001b[0mget\u001b[0m\u001b[1;33m(\u001b[0m\u001b[0mself\u001b[0m\u001b[1;33m)\u001b[0m\u001b[1;33m:\u001b[0m\u001b[1;33m\u001b[0m\u001b[1;33m\u001b[0m\u001b[0m\n",
      "\u001b[1;32m~\\Anaconda3\\lib\\site-packages\\joblib\\parallel.py\u001b[0m in \u001b[0;36m__call__\u001b[1;34m(self)\u001b[0m\n\u001b[0;32m    223\u001b[0m         \u001b[1;32mwith\u001b[0m \u001b[0mparallel_backend\u001b[0m\u001b[1;33m(\u001b[0m\u001b[0mself\u001b[0m\u001b[1;33m.\u001b[0m\u001b[0m_backend\u001b[0m\u001b[1;33m,\u001b[0m \u001b[0mn_jobs\u001b[0m\u001b[1;33m=\u001b[0m\u001b[0mself\u001b[0m\u001b[1;33m.\u001b[0m\u001b[0m_n_jobs\u001b[0m\u001b[1;33m)\u001b[0m\u001b[1;33m:\u001b[0m\u001b[1;33m\u001b[0m\u001b[1;33m\u001b[0m\u001b[0m\n\u001b[0;32m    224\u001b[0m             return [func(*args, **kwargs)\n\u001b[1;32m--> 225\u001b[1;33m                     for func, args, kwargs in self.items]\n\u001b[0m\u001b[0;32m    226\u001b[0m \u001b[1;33m\u001b[0m\u001b[0m\n\u001b[0;32m    227\u001b[0m     \u001b[1;32mdef\u001b[0m \u001b[0m__len__\u001b[0m\u001b[1;33m(\u001b[0m\u001b[0mself\u001b[0m\u001b[1;33m)\u001b[0m\u001b[1;33m:\u001b[0m\u001b[1;33m\u001b[0m\u001b[1;33m\u001b[0m\u001b[0m\n",
      "\u001b[1;32m~\\Anaconda3\\lib\\site-packages\\joblib\\parallel.py\u001b[0m in \u001b[0;36m<listcomp>\u001b[1;34m(.0)\u001b[0m\n\u001b[0;32m    223\u001b[0m         \u001b[1;32mwith\u001b[0m \u001b[0mparallel_backend\u001b[0m\u001b[1;33m(\u001b[0m\u001b[0mself\u001b[0m\u001b[1;33m.\u001b[0m\u001b[0m_backend\u001b[0m\u001b[1;33m,\u001b[0m \u001b[0mn_jobs\u001b[0m\u001b[1;33m=\u001b[0m\u001b[0mself\u001b[0m\u001b[1;33m.\u001b[0m\u001b[0m_n_jobs\u001b[0m\u001b[1;33m)\u001b[0m\u001b[1;33m:\u001b[0m\u001b[1;33m\u001b[0m\u001b[1;33m\u001b[0m\u001b[0m\n\u001b[0;32m    224\u001b[0m             return [func(*args, **kwargs)\n\u001b[1;32m--> 225\u001b[1;33m                     for func, args, kwargs in self.items]\n\u001b[0m\u001b[0;32m    226\u001b[0m \u001b[1;33m\u001b[0m\u001b[0m\n\u001b[0;32m    227\u001b[0m     \u001b[1;32mdef\u001b[0m \u001b[0m__len__\u001b[0m\u001b[1;33m(\u001b[0m\u001b[0mself\u001b[0m\u001b[1;33m)\u001b[0m\u001b[1;33m:\u001b[0m\u001b[1;33m\u001b[0m\u001b[1;33m\u001b[0m\u001b[0m\n",
      "\u001b[1;32m~\\Anaconda3\\lib\\site-packages\\sklearn\\model_selection\\_validation.py\u001b[0m in \u001b[0;36m_fit_and_score\u001b[1;34m(estimator, X, y, scorer, train, test, verbose, parameters, fit_params, return_train_score, return_parameters, return_n_test_samples, return_times, return_estimator, error_score)\u001b[0m\n\u001b[0;32m    512\u001b[0m             \u001b[0mestimator\u001b[0m\u001b[1;33m.\u001b[0m\u001b[0mfit\u001b[0m\u001b[1;33m(\u001b[0m\u001b[0mX_train\u001b[0m\u001b[1;33m,\u001b[0m \u001b[1;33m**\u001b[0m\u001b[0mfit_params\u001b[0m\u001b[1;33m)\u001b[0m\u001b[1;33m\u001b[0m\u001b[1;33m\u001b[0m\u001b[0m\n\u001b[0;32m    513\u001b[0m         \u001b[1;32melse\u001b[0m\u001b[1;33m:\u001b[0m\u001b[1;33m\u001b[0m\u001b[1;33m\u001b[0m\u001b[0m\n\u001b[1;32m--> 514\u001b[1;33m             \u001b[0mestimator\u001b[0m\u001b[1;33m.\u001b[0m\u001b[0mfit\u001b[0m\u001b[1;33m(\u001b[0m\u001b[0mX_train\u001b[0m\u001b[1;33m,\u001b[0m \u001b[0my_train\u001b[0m\u001b[1;33m,\u001b[0m \u001b[1;33m**\u001b[0m\u001b[0mfit_params\u001b[0m\u001b[1;33m)\u001b[0m\u001b[1;33m\u001b[0m\u001b[1;33m\u001b[0m\u001b[0m\n\u001b[0m\u001b[0;32m    515\u001b[0m \u001b[1;33m\u001b[0m\u001b[0m\n\u001b[0;32m    516\u001b[0m     \u001b[1;32mexcept\u001b[0m \u001b[0mException\u001b[0m \u001b[1;32mas\u001b[0m \u001b[0me\u001b[0m\u001b[1;33m:\u001b[0m\u001b[1;33m\u001b[0m\u001b[1;33m\u001b[0m\u001b[0m\n",
      "\u001b[1;32m~\\Anaconda3\\lib\\site-packages\\sklearn\\svm\\base.py\u001b[0m in \u001b[0;36mfit\u001b[1;34m(self, X, y, sample_weight)\u001b[0m\n\u001b[0;32m    207\u001b[0m \u001b[1;33m\u001b[0m\u001b[0m\n\u001b[0;32m    208\u001b[0m         \u001b[0mseed\u001b[0m \u001b[1;33m=\u001b[0m \u001b[0mrnd\u001b[0m\u001b[1;33m.\u001b[0m\u001b[0mrandint\u001b[0m\u001b[1;33m(\u001b[0m\u001b[0mnp\u001b[0m\u001b[1;33m.\u001b[0m\u001b[0miinfo\u001b[0m\u001b[1;33m(\u001b[0m\u001b[1;34m'i'\u001b[0m\u001b[1;33m)\u001b[0m\u001b[1;33m.\u001b[0m\u001b[0mmax\u001b[0m\u001b[1;33m)\u001b[0m\u001b[1;33m\u001b[0m\u001b[1;33m\u001b[0m\u001b[0m\n\u001b[1;32m--> 209\u001b[1;33m         \u001b[0mfit\u001b[0m\u001b[1;33m(\u001b[0m\u001b[0mX\u001b[0m\u001b[1;33m,\u001b[0m \u001b[0my\u001b[0m\u001b[1;33m,\u001b[0m \u001b[0msample_weight\u001b[0m\u001b[1;33m,\u001b[0m \u001b[0msolver_type\u001b[0m\u001b[1;33m,\u001b[0m \u001b[0mkernel\u001b[0m\u001b[1;33m,\u001b[0m \u001b[0mrandom_seed\u001b[0m\u001b[1;33m=\u001b[0m\u001b[0mseed\u001b[0m\u001b[1;33m)\u001b[0m\u001b[1;33m\u001b[0m\u001b[1;33m\u001b[0m\u001b[0m\n\u001b[0m\u001b[0;32m    210\u001b[0m         \u001b[1;31m# see comment on the other call to np.iinfo in this file\u001b[0m\u001b[1;33m\u001b[0m\u001b[1;33m\u001b[0m\u001b[1;33m\u001b[0m\u001b[0m\n\u001b[0;32m    211\u001b[0m \u001b[1;33m\u001b[0m\u001b[0m\n",
      "\u001b[1;32m~\\Anaconda3\\lib\\site-packages\\sklearn\\svm\\base.py\u001b[0m in \u001b[0;36m_dense_fit\u001b[1;34m(self, X, y, sample_weight, solver_type, kernel, random_seed)\u001b[0m\n\u001b[0;32m    266\u001b[0m                 \u001b[0mcache_size\u001b[0m\u001b[1;33m=\u001b[0m\u001b[0mself\u001b[0m\u001b[1;33m.\u001b[0m\u001b[0mcache_size\u001b[0m\u001b[1;33m,\u001b[0m \u001b[0mcoef0\u001b[0m\u001b[1;33m=\u001b[0m\u001b[0mself\u001b[0m\u001b[1;33m.\u001b[0m\u001b[0mcoef0\u001b[0m\u001b[1;33m,\u001b[0m\u001b[1;33m\u001b[0m\u001b[1;33m\u001b[0m\u001b[0m\n\u001b[0;32m    267\u001b[0m                 \u001b[0mgamma\u001b[0m\u001b[1;33m=\u001b[0m\u001b[0mself\u001b[0m\u001b[1;33m.\u001b[0m\u001b[0m_gamma\u001b[0m\u001b[1;33m,\u001b[0m \u001b[0mepsilon\u001b[0m\u001b[1;33m=\u001b[0m\u001b[0mself\u001b[0m\u001b[1;33m.\u001b[0m\u001b[0mepsilon\u001b[0m\u001b[1;33m,\u001b[0m\u001b[1;33m\u001b[0m\u001b[1;33m\u001b[0m\u001b[0m\n\u001b[1;32m--> 268\u001b[1;33m                 max_iter=self.max_iter, random_seed=random_seed)\n\u001b[0m\u001b[0;32m    269\u001b[0m \u001b[1;33m\u001b[0m\u001b[0m\n\u001b[0;32m    270\u001b[0m         \u001b[0mself\u001b[0m\u001b[1;33m.\u001b[0m\u001b[0m_warn_from_fit_status\u001b[0m\u001b[1;33m(\u001b[0m\u001b[1;33m)\u001b[0m\u001b[1;33m\u001b[0m\u001b[1;33m\u001b[0m\u001b[0m\n",
      "\u001b[1;31mKeyboardInterrupt\u001b[0m: "
     ]
    }
   ],
   "source": [
    "hyperparams = { \n",
    "    'C': np.linspace(1, 100, 100),\n",
    "    'gamma': np.linspace(0.00, 5, 100),\n",
    "    'class_weight': ['balanced', None],\n",
    "    'kernel': ['linear', 'rbf', 'poly', 'sigmoid']\n",
    "}\n",
    "\n",
    "rs = RandomizedSearchCV(svm.SVC(), hyperparams, cv=10, n_iter=25, verbose=2, scoring='accuracy')\n",
    "rs.fit(sliceX, slicey)\n",
    "print(rs.best_params_)"
   ]
  },
  {
   "cell_type": "code",
   "execution_count": null,
   "metadata": {
    "scrolled": true
   },
   "outputs": [],
   "source": [
    "rbf_svc = svm.SVC(kernel='rbf', C=68, gamma=0.55, class_weight='balanced')\n",
    "scoresRBF = cross_val_score(rbf_svc, sliceX, slicey, cv=10, scoring='accuracy')\n",
    "print(np.mean(scoresRBF))"
   ]
  },
  {
   "cell_type": "code",
   "execution_count": 6,
   "metadata": {},
   "outputs": [
    {
     "name": "stdout",
     "output_type": "stream",
     "text": [
      "0.802011601160116\n"
     ]
    }
   ],
   "source": [
    "rf = RandomForestClassifier(n_estimators=20,n_jobs=-1,random_state=42)\n",
    "scores_rf = cross_val_score(rf, sliceX, slicey, cv=10, scoring='accuracy')\n",
    "print(np.mean(scores_rf))"
   ]
  },
  {
   "cell_type": "code",
   "execution_count": 23,
   "metadata": {},
   "outputs": [
    {
     "name": "stdout",
     "output_type": "stream",
     "text": [
      "Fitting 3 folds for each of 50 candidates, totalling 150 fits\n"
     ]
    },
    {
     "name": "stderr",
     "output_type": "stream",
     "text": [
      "[Parallel(n_jobs=-1)]: Using backend LokyBackend with 4 concurrent workers.\n",
      "[Parallel(n_jobs=-1)]: Done  33 tasks      | elapsed:   21.3s\n",
      "[Parallel(n_jobs=-1)]: Done 150 out of 150 | elapsed:   52.8s finished\n"
     ]
    },
    {
     "name": "stdout",
     "output_type": "stream",
     "text": [
      "{'n_estimators': 260, 'min_samples_split': 5, 'min_samples_leaf': 2, 'max_features': 'sqrt', 'max_depth': 30, 'bootstrap': True}\n"
     ]
    }
   ],
   "source": [
    "rf_hyperparams = { \n",
    "    'n_estimators': np.arange(100, 1000, 10),\n",
    "    'max_features': ['auto', 'sqrt'],\n",
    "    'max_depth': np.arange(10,100,10),\n",
    "    'min_samples_leaf': [1, 2, 4],\n",
    "    'min_samples_split': [2, 5, 10],\n",
    "    'bootstrap':[True,False]\n",
    "    \n",
    "}\n",
    "rf = RandomForestClassifier()\n",
    "rf_random = RandomizedSearchCV(rf, rf_hyperparams, n_iter = 50, cv = 3, verbose=2, random_state=42, n_jobs = -1)\n",
    "print(rf_random.best_params_)"
   ]
  },
  {
   "cell_type": "code",
   "execution_count": 38,
   "metadata": {},
   "outputs": [
    {
     "name": "stdout",
     "output_type": "stream",
     "text": [
      "0.8090158015801581\n"
     ]
    }
   ],
   "source": [
    "rf = RandomForestClassifier(n_estimators=260, min_samples_split=5,min_samples_leaf=3,max_features='sqrt', max_depth=30,bootstrap=True,n_jobs=-1,random_state=42)\n",
    "scores_rf = cross_val_score(rf, sliceX, slicey, cv=10, scoring='accuracy')\n",
    "classifier = rf.fit(sliceX, slicey)\n",
    "predictions = classifier.predict_proba(testX)\n",
    "print(np.mean(scores_rf))"
   ]
  },
  {
   "cell_type": "code",
   "execution_count": 39,
   "metadata": {},
   "outputs": [
    {
     "name": "stdout",
     "output_type": "stream",
     "text": [
      "[[0.51289359 0.48710641]\n",
      " [0.54249736 0.45750264]\n",
      " [0.59868326 0.40131674]\n",
      " ...\n",
      " [0.71762099 0.28237901]\n",
      " [0.72093296 0.27906704]\n",
      " [0.54186702 0.45813298]]\n"
     ]
    }
   ],
   "source": [
    "print(predictions)"
   ]
  }
 ],
 "metadata": {
  "kernelspec": {
   "display_name": "Python 3",
   "language": "python",
   "name": "python3"
  },
  "language_info": {
   "codemirror_mode": {
    "name": "ipython",
    "version": 3
   },
   "file_extension": ".py",
   "mimetype": "text/x-python",
   "name": "python",
   "nbconvert_exporter": "python",
   "pygments_lexer": "ipython3",
   "version": "3.7.3"
  }
 },
 "nbformat": 4,
 "nbformat_minor": 2
}
