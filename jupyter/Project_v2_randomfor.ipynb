{
 "cells": [
  {
   "cell_type": "code",
   "execution_count": 12,
   "metadata": {},
   "outputs": [],
   "source": [
    "import pandas as pd\n",
    "import numpy as np\n",
    "import os\n",
    "import matplotlib.pyplot as plt\n",
    "from sklearn import svm, datasets\n",
    "from sklearn.model_selection import cross_val_score, RandomizedSearchCV\n",
    "from sklearn.preprocessing import MinMaxScaler, LabelEncoder\n",
    "from sklearn.ensemble import RandomForestClassifier\n",
    "from sklearn.tree import DecisionTreeClassifier"
   ]
  },
  {
   "cell_type": "code",
   "execution_count": 13,
   "metadata": {},
   "outputs": [],
   "source": [
    "\n",
    "file = pd.read_csv('../data/Inplaydata19.csv', error_bad_lines=False)\n",
    "dataFrame = pd.DataFrame(file)\n",
    "\n"
   ]
  },
  {
   "cell_type": "code",
   "execution_count": 14,
   "metadata": {},
   "outputs": [],
   "source": [
    "# Single, Double, Triple, HomeRun, (field_out, force_out, fielders_choice) = out, \n",
    "# grounded_into_double_play, sac_fly, sac_bunt,\n",
    "\n",
    "#Transform values into binary classification\n",
    "d = {\n",
    "    'single': 1, \n",
    "    'double': 1, \n",
    "    'triple': 1, \n",
    "    'home_run': 1, \n",
    "    'field_out': 0,\n",
    "    'force_out': 0,\n",
    "    'fielders_choice': 1,\n",
    "    'grounded_into_double_play': 0,\n",
    "    'sac_fly': 0,\n",
    "    'sac_bunt': 0,\n",
    "    'double_play': 0,\n",
    "    'fielders_choice_out': 0,\n",
    "    'catcher_interf': 1,\n",
    "    'triple_play': 0,\n",
    "    'field_error': 1,\n",
    "    'sac_fly_double_play': 0,\n",
    "    'sac_bunt_double_play': 0\n",
    "}\n",
    "\n",
    "dataFrame = dataFrame.replace(d)\n",
    "#dataFrame=dataFrame.sample(frac=1).reset_index(drop=True)"
   ]
  },
  {
   "cell_type": "code",
   "execution_count": 15,
   "metadata": {},
   "outputs": [],
   "source": [
    "X = pd.DataFrame()\n",
    "dataFrame=dataFrame[dataFrame['hc_y']!=198]\n",
    "dataFrame= dataFrame.dropna(subset=['launch_speed','launch_angle','hc_x','hc_y'])\n",
    "dataFrame=dataFrame.sample(frac=1).reset_index()\n",
    "batterlist=dataFrame['batter']\n",
    "indexlist=dataFrame['index']\n",
    "X['launch_speed'] = dataFrame['launch_speed']\n",
    "X['launch_angle'] = dataFrame['launch_angle']*np.pi/180\n",
    "X['launch_speed_angle'] = dataFrame['launch_speed_angle']\n",
    "X['estimated_ba_using_speedangle'] = dataFrame['estimated_ba_using_speedangle']\n",
    "X['hc_x']=125-dataFrame['hc_x']\n",
    "X['hc_y']=198-dataFrame['hc_y']\n",
    "X['events'] = dataFrame['events']\n",
    "X.insert(0, 'Ones', 1)\n",
    "\n",
    "\n",
    "y = X['events']\n",
    "\n",
    "X = X.iloc[:, :-1]\n"
   ]
  },
  {
   "cell_type": "code",
   "execution_count": 16,
   "metadata": {},
   "outputs": [],
   "source": [
    "\n",
    "\n",
    "X['hor_rad']=np.arctan(X['hc_x']/X['hc_y'])\n",
    "X['hor_deg']=X['hor_rad']*(180/np.pi)"
   ]
  },
  {
   "cell_type": "code",
   "execution_count": 17,
   "metadata": {},
   "outputs": [],
   "source": [
    "meanspd=np.mean(X['launch_speed'])\n",
    "stdspd=np.std(X['launch_speed'])\n",
    "meanang=np.mean(X['launch_angle'])\n",
    "stdang=np.std(X['launch_angle'])\n",
    "stdhor=np.std(X['hor_rad'])\n"
   ]
  },
  {
   "cell_type": "code",
   "execution_count": 18,
   "metadata": {},
   "outputs": [],
   "source": [
    "normX=pd.DataFrame()\n",
    "normX['launch_speed']=(X['launch_speed']-meanspd)/stdspd\n",
    "normX['launch_angle']=(X['launch_angle']-meanang)/stdang\n",
    "normX['hor_angle']=(X['hor_rad'])/stdhor"
   ]
  },
  {
   "cell_type": "markdown",
   "metadata": {},
   "source": [
    "## SVM Stuff"
   ]
  },
  {
   "cell_type": "code",
   "execution_count": 39,
   "metadata": {},
   "outputs": [],
   "source": [
    "#Trim data\n",
    "normX=normX.iloc[:,:3]\n",
    "sliceX = normX.iloc[0:10000]\n",
    "slicey = y.iloc[0:10000]\n",
    "sliceX2 = normX.iloc[10000:20000]\n",
    "slicey2 = y.iloc[10000:20000]"
   ]
  },
  {
   "cell_type": "code",
   "execution_count": null,
   "metadata": {},
   "outputs": [
    {
     "name": "stdout",
     "output_type": "stream",
     "text": [
      "Fitting 10 folds for each of 25 candidates, totalling 250 fits\n"
     ]
    },
    {
     "name": "stderr",
     "output_type": "stream",
     "text": [
      "[Parallel(n_jobs=-1)]: Using backend LokyBackend with 4 concurrent workers.\n",
      "[Parallel(n_jobs=-1)]: Done  33 tasks      | elapsed: 20.7min\n"
     ]
    }
   ],
   "source": [
    "hyperparams = { \n",
    "    'C': np.linspace(1, 100, 100),\n",
    "    'gamma': np.linspace(0.00, 5, 100),\n",
    "    'class_weight': ['balanced', None],\n",
    "    'kernel': ['linear', 'rbf', 'poly', 'sigmoid']\n",
    "}\n",
    "\n",
    "rs = RandomizedSearchCV(svm.SVC(), hyperparams, cv=10, n_iter=25, verbose=2, scoring='accuracy',n_jobs=-1)\n",
    "rs.fit(sliceX, slicey)\n",
    "print(rs.best_params_)"
   ]
  },
  {
   "cell_type": "code",
   "execution_count": null,
   "metadata": {
    "scrolled": true
   },
   "outputs": [],
   "source": [
    "\n",
    "rbf_svc = svm.SVC(kernel='rbf', C=68, gamma=0.55, class_weight='balanced')\n",
    "scoresRBF = cross_val_score(rbf_svc, sliceX2, slicey2, cv=10, scoring='accuracy')\n",
    "print(np.mean(scoresRBF))"
   ]
  },
  {
   "cell_type": "markdown",
   "metadata": {},
   "source": [
    "## Random Forest"
   ]
  },
  {
   "cell_type": "code",
   "execution_count": 40,
   "metadata": {},
   "outputs": [
    {
     "name": "stdout",
     "output_type": "stream",
     "text": [
      "Fitting 3 folds for each of 50 candidates, totalling 150 fits\n"
     ]
    },
    {
     "name": "stderr",
     "output_type": "stream",
     "text": [
      "[Parallel(n_jobs=-1)]: Using backend LokyBackend with 4 concurrent workers.\n",
      "[Parallel(n_jobs=-1)]: Done  33 tasks      | elapsed:  1.5min\n",
      "[Parallel(n_jobs=-1)]: Done 150 out of 150 | elapsed:  5.0min finished\n"
     ]
    },
    {
     "name": "stdout",
     "output_type": "stream",
     "text": [
      "{'n_estimators': 160, 'min_samples_split': 10, 'min_samples_leaf': 4, 'max_features': 'sqrt', 'max_depth': 40, 'bootstrap': True}\n"
     ]
    }
   ],
   "source": [
    "rf_hyperparams = { \n",
    "    'n_estimators': np.arange(100, 1000, 10),\n",
    "    'max_features': ['auto', 'sqrt'],\n",
    "    'max_depth': np.arange(10,100,10),\n",
    "    'min_samples_leaf': [1, 2, 4],\n",
    "    'min_samples_split': [2, 5, 10],\n",
    "    'bootstrap':[True,False]\n",
    "    \n",
    "}\n",
    "rf = RandomForestClassifier()\n",
    "rf_random = RandomizedSearchCV(rf, rf_hyperparams, n_iter = 50, cv = 3, verbose=2, random_state=42, n_jobs = -1)\n",
    "rf_random.fit(sliceX,slicey)\n",
    "print(rf_random.best_params_)"
   ]
  },
  {
   "cell_type": "code",
   "execution_count": 41,
   "metadata": {},
   "outputs": [],
   "source": [
    "\n",
    "bestpar = rf_random.best_params_\n",
    "rf=RandomForestClassifier(n_estimators=bestpar['n_estimators'],min_samples_split=bestpar['min_samples_split'],\n",
    "                         min_samples_leaf=bestpar['min_samples_leaf'],max_depth=bestpar['max_depth'],max_features=bestpar['max_features'],\n",
    "                        bootstrap=bestpar['bootstrap'],n_jobs=-1, random_state=42)\n"
   ]
  },
  {
   "cell_type": "code",
   "execution_count": 42,
   "metadata": {},
   "outputs": [
    {
     "name": "stdout",
     "output_type": "stream",
     "text": [
      "0.817393491193491\n"
     ]
    }
   ],
   "source": [
    "scores_rf = cross_val_score(rf, sliceX2, slicey2, cv=10, scoring='accuracy')\n",
    "classifier=rf.fit(sliceX,slicey)\n",
    "print(np.mean(scores_rf))"
   ]
  },
  {
   "cell_type": "code",
   "execution_count": 43,
   "metadata": {},
   "outputs": [],
   "source": [
    "results=pd.DataFrame()\n",
    "predictions=classifier.predict_proba(normX)\n",
    "results['launch_speed']=normX['launch_speed']*stdspd+meanspd\n",
    "results['launch_angle']=normX['launch_angle']*stdang+meanang\n",
    "results['hor_angle']=normX['hor_angle']*stdhor\n",
    "results['predictions']=predictions[:,1]"
   ]
  },
  {
   "cell_type": "markdown",
   "metadata": {},
   "source": [
    "## Aggregation by Player"
   ]
  },
  {
   "cell_type": "code",
   "execution_count": 51,
   "metadata": {},
   "outputs": [],
   "source": [
    "normX=normX.iloc[:,:3]\n",
    "normX['predictions']=classifier.predict_proba(normX)[:,1]\n"
   ]
  },
  {
   "cell_type": "code",
   "execution_count": 52,
   "metadata": {},
   "outputs": [],
   "source": [
    "normX['batter']=batterlist\n",
    "#normX['regspeed']=normX['launch_speed']*stdspd+meanspd\n",
    "#normX['reglang']=normX['launch_angle']*stdang+meanang\n",
    "#normX['reghang']=normX['hor_angle']*stdhor"
   ]
  },
  {
   "cell_type": "code",
   "execution_count": 53,
   "metadata": {},
   "outputs": [],
   "source": [
    "pred=pd.DataFrame()\n",
    "pred['batter']=normX['batter']\n",
    "pred['predictions']=normX['predictions']\n",
    "pred['actba']=y"
   ]
  },
  {
   "cell_type": "code",
   "execution_count": 54,
   "metadata": {},
   "outputs": [],
   "source": [
    "grouped=pred.groupby('batter')"
   ]
  },
  {
   "cell_type": "code",
   "execution_count": 55,
   "metadata": {},
   "outputs": [],
   "source": [
    "predictor=pd.DataFrame()\n",
    "#predictor['batter']=grouped.describe()['batter']\n",
    "predictor['count']=grouped.describe()['predictions']['count']\n",
    "predictor['exba']=grouped.describe()['predictions']['mean']\n",
    "predictor['BABIP']=grouped.describe()['actba']['mean']\n",
    "predictor=predictor.reset_index()"
   ]
  },
  {
   "cell_type": "code",
   "execution_count": 56,
   "metadata": {},
   "outputs": [],
   "source": [
    "\n",
    "batters=pd.read_csv('../data/batterdat1.csv')\n",
    "strikeouts=pd.read_csv('../data/Strikeouts.csv')\n",
    "batters['Name']=batters['player_name']\n",
    "full=strikeouts.merge(batters,on='Name',how='outer')\n",
    "full=full.dropna()\n",
    "#joiner=pd.DataFrame()\n",
    "#joiner['batter']=full['player_id']\n",
    "#joiner['Name']=full['Name']\n",
    "#joiner['Team']=full['Team']\n",
    "#joiner['AB']=full['AB']\n",
    "#joiner['Batting_Avg']=full['ba']\n",
    "full['batter']=full['player_id']\n",
    "predictor=predictor.merge(full,on='batter',how='inner')\n",
    "#predictor['Ex ABs']=predictor['count']"
   ]
  },
  {
   "cell_type": "code",
   "execution_count": 58,
   "metadata": {},
   "outputs": [],
   "source": [
    "summary=pd.DataFrame()\n",
    "summary['Name']=predictor['Name']\n",
    "summary['Team']=predictor['Team']\n",
    "summary['Balls in Play']=predictor['count']\n",
    "summary['Average on Balls in Play']=predictor['BABIP']\n",
    "summary['Ex Average on Balls in Play']=predictor['exba']\n",
    "summary['Difference']=predictor['BABIP']-predictor['exba']\n",
    "Error=abs(predictor['BABIP']-predictor['exba'])"
   ]
  },
  {
   "cell_type": "code",
   "execution_count": 59,
   "metadata": {},
   "outputs": [
    {
     "data": {
      "text/plain": [
       "0.02056565845609552"
      ]
     },
     "execution_count": 59,
     "metadata": {},
     "output_type": "execute_result"
    }
   ],
   "source": [
    "np.mean(Error)"
   ]
  },
  {
   "cell_type": "code",
   "execution_count": 60,
   "metadata": {},
   "outputs": [
    {
     "data": {
      "text/html": [
       "<div>\n",
       "<style scoped>\n",
       "    .dataframe tbody tr th:only-of-type {\n",
       "        vertical-align: middle;\n",
       "    }\n",
       "\n",
       "    .dataframe tbody tr th {\n",
       "        vertical-align: top;\n",
       "    }\n",
       "\n",
       "    .dataframe thead th {\n",
       "        text-align: right;\n",
       "    }\n",
       "</style>\n",
       "<table border=\"1\" class=\"dataframe\">\n",
       "  <thead>\n",
       "    <tr style=\"text-align: right;\">\n",
       "      <th></th>\n",
       "      <th>Name</th>\n",
       "      <th>Team</th>\n",
       "      <th>Balls in Play</th>\n",
       "      <th>Average on Balls in Play</th>\n",
       "      <th>Ex Average on Balls in Play</th>\n",
       "      <th>Difference</th>\n",
       "    </tr>\n",
       "  </thead>\n",
       "  <tbody>\n",
       "    <tr>\n",
       "      <th>89</th>\n",
       "      <td>Marcell Ozuna</td>\n",
       "      <td>Cardinals</td>\n",
       "      <td>370.0</td>\n",
       "      <td>0.324324</td>\n",
       "      <td>0.396693</td>\n",
       "      <td>-0.072369</td>\n",
       "    </tr>\n",
       "    <tr>\n",
       "      <th>272</th>\n",
       "      <td>Danny Jansen</td>\n",
       "      <td>Blue Jays</td>\n",
       "      <td>269.0</td>\n",
       "      <td>0.275093</td>\n",
       "      <td>0.328619</td>\n",
       "      <td>-0.053526</td>\n",
       "    </tr>\n",
       "    <tr>\n",
       "      <th>72</th>\n",
       "      <td>Derek Dietrich</td>\n",
       "      <td>Reds</td>\n",
       "      <td>177.0</td>\n",
       "      <td>0.282486</td>\n",
       "      <td>0.335516</td>\n",
       "      <td>-0.053030</td>\n",
       "    </tr>\n",
       "    <tr>\n",
       "      <th>49</th>\n",
       "      <td>Justin Smoak</td>\n",
       "      <td>Blue Jays</td>\n",
       "      <td>309.0</td>\n",
       "      <td>0.291262</td>\n",
       "      <td>0.342309</td>\n",
       "      <td>-0.051046</td>\n",
       "    </tr>\n",
       "    <tr>\n",
       "      <th>4</th>\n",
       "      <td>Robinson Cano</td>\n",
       "      <td>Mets</td>\n",
       "      <td>323.0</td>\n",
       "      <td>0.315789</td>\n",
       "      <td>0.366130</td>\n",
       "      <td>-0.050341</td>\n",
       "    </tr>\n",
       "    <tr>\n",
       "      <th>266</th>\n",
       "      <td>Rowdy Tellez</td>\n",
       "      <td>Blue Jays</td>\n",
       "      <td>257.0</td>\n",
       "      <td>0.330739</td>\n",
       "      <td>0.379140</td>\n",
       "      <td>-0.048401</td>\n",
       "    </tr>\n",
       "    <tr>\n",
       "      <th>291</th>\n",
       "      <td>Ryan O'Hearn</td>\n",
       "      <td>Royals</td>\n",
       "      <td>231.0</td>\n",
       "      <td>0.277056</td>\n",
       "      <td>0.323127</td>\n",
       "      <td>-0.046071</td>\n",
       "    </tr>\n",
       "    <tr>\n",
       "      <th>12</th>\n",
       "      <td>Kurt Suzuki</td>\n",
       "      <td>Nationals</td>\n",
       "      <td>247.0</td>\n",
       "      <td>0.307692</td>\n",
       "      <td>0.352859</td>\n",
       "      <td>-0.045167</td>\n",
       "    </tr>\n",
       "    <tr>\n",
       "      <th>78</th>\n",
       "      <td>Jonathan Lucroy</td>\n",
       "      <td>- - -</td>\n",
       "      <td>245.0</td>\n",
       "      <td>0.277551</td>\n",
       "      <td>0.321792</td>\n",
       "      <td>-0.044241</td>\n",
       "    </tr>\n",
       "    <tr>\n",
       "      <th>28</th>\n",
       "      <td>Welington Castillo</td>\n",
       "      <td>White Sox</td>\n",
       "      <td>158.0</td>\n",
       "      <td>0.316456</td>\n",
       "      <td>0.359089</td>\n",
       "      <td>-0.042633</td>\n",
       "    </tr>\n",
       "  </tbody>\n",
       "</table>\n",
       "</div>"
      ],
      "text/plain": [
       "                   Name       Team  Balls in Play  Average on Balls in Play  \\\n",
       "89        Marcell Ozuna  Cardinals          370.0                  0.324324   \n",
       "272        Danny Jansen  Blue Jays          269.0                  0.275093   \n",
       "72       Derek Dietrich       Reds          177.0                  0.282486   \n",
       "49         Justin Smoak  Blue Jays          309.0                  0.291262   \n",
       "4         Robinson Cano       Mets          323.0                  0.315789   \n",
       "266        Rowdy Tellez  Blue Jays          257.0                  0.330739   \n",
       "291        Ryan O'Hearn     Royals          231.0                  0.277056   \n",
       "12          Kurt Suzuki  Nationals          247.0                  0.307692   \n",
       "78      Jonathan Lucroy      - - -          245.0                  0.277551   \n",
       "28   Welington Castillo  White Sox          158.0                  0.316456   \n",
       "\n",
       "     Ex Average on Balls in Play  Difference  \n",
       "89                      0.396693   -0.072369  \n",
       "272                     0.328619   -0.053526  \n",
       "72                      0.335516   -0.053030  \n",
       "49                      0.342309   -0.051046  \n",
       "4                       0.366130   -0.050341  \n",
       "266                     0.379140   -0.048401  \n",
       "291                     0.323127   -0.046071  \n",
       "12                      0.352859   -0.045167  \n",
       "78                      0.321792   -0.044241  \n",
       "28                      0.359089   -0.042633  "
      ]
     },
     "execution_count": 60,
     "metadata": {},
     "output_type": "execute_result"
    }
   ],
   "source": [
    "summary.sort_values(by=['Difference']).head(10)\n"
   ]
  },
  {
   "cell_type": "code",
   "execution_count": 61,
   "metadata": {},
   "outputs": [
    {
     "data": {
      "text/html": [
       "<div>\n",
       "<style scoped>\n",
       "    .dataframe tbody tr th:only-of-type {\n",
       "        vertical-align: middle;\n",
       "    }\n",
       "\n",
       "    .dataframe tbody tr th {\n",
       "        vertical-align: top;\n",
       "    }\n",
       "\n",
       "    .dataframe thead th {\n",
       "        text-align: right;\n",
       "    }\n",
       "</style>\n",
       "<table border=\"1\" class=\"dataframe\">\n",
       "  <thead>\n",
       "    <tr style=\"text-align: right;\">\n",
       "      <th></th>\n",
       "      <th>Name</th>\n",
       "      <th>Team</th>\n",
       "      <th>Balls in Play</th>\n",
       "      <th>Average on Balls in Play</th>\n",
       "      <th>Ex Average on Balls in Play</th>\n",
       "      <th>Difference</th>\n",
       "    </tr>\n",
       "  </thead>\n",
       "  <tbody>\n",
       "    <tr>\n",
       "      <th>305</th>\n",
       "      <td>Fernando Tatis Jr.</td>\n",
       "      <td>Padres</td>\n",
       "      <td>226.0</td>\n",
       "      <td>0.486726</td>\n",
       "      <td>0.388463</td>\n",
       "      <td>0.098263</td>\n",
       "    </tr>\n",
       "    <tr>\n",
       "      <th>253</th>\n",
       "      <td>Tim Anderson</td>\n",
       "      <td>White Sox</td>\n",
       "      <td>389.0</td>\n",
       "      <td>0.442159</td>\n",
       "      <td>0.372693</td>\n",
       "      <td>0.069467</td>\n",
       "    </tr>\n",
       "    <tr>\n",
       "      <th>240</th>\n",
       "      <td>Victor Reyes</td>\n",
       "      <td>Tigers</td>\n",
       "      <td>214.0</td>\n",
       "      <td>0.406542</td>\n",
       "      <td>0.345916</td>\n",
       "      <td>0.060627</td>\n",
       "    </tr>\n",
       "    <tr>\n",
       "      <th>300</th>\n",
       "      <td>Brandon Lowe</td>\n",
       "      <td>Rays</td>\n",
       "      <td>183.0</td>\n",
       "      <td>0.448087</td>\n",
       "      <td>0.388098</td>\n",
       "      <td>0.059989</td>\n",
       "    </tr>\n",
       "    <tr>\n",
       "      <th>261</th>\n",
       "      <td>Garrett Hampson</td>\n",
       "      <td>Rockies</td>\n",
       "      <td>215.0</td>\n",
       "      <td>0.362791</td>\n",
       "      <td>0.310430</td>\n",
       "      <td>0.052361</td>\n",
       "    </tr>\n",
       "    <tr>\n",
       "      <th>158</th>\n",
       "      <td>Delino DeShields</td>\n",
       "      <td>Rangers</td>\n",
       "      <td>267.0</td>\n",
       "      <td>0.355805</td>\n",
       "      <td>0.303930</td>\n",
       "      <td>0.051875</td>\n",
       "    </tr>\n",
       "    <tr>\n",
       "      <th>94</th>\n",
       "      <td>Jon Berti</td>\n",
       "      <td>Marlins</td>\n",
       "      <td>184.0</td>\n",
       "      <td>0.407609</td>\n",
       "      <td>0.356161</td>\n",
       "      <td>0.051448</td>\n",
       "    </tr>\n",
       "    <tr>\n",
       "      <th>230</th>\n",
       "      <td>Kevin Newman</td>\n",
       "      <td>Pirates</td>\n",
       "      <td>433.0</td>\n",
       "      <td>0.374134</td>\n",
       "      <td>0.322937</td>\n",
       "      <td>0.051197</td>\n",
       "    </tr>\n",
       "    <tr>\n",
       "      <th>233</th>\n",
       "      <td>David Dahl</td>\n",
       "      <td>Rockies</td>\n",
       "      <td>270.0</td>\n",
       "      <td>0.425926</td>\n",
       "      <td>0.375238</td>\n",
       "      <td>0.050688</td>\n",
       "    </tr>\n",
       "    <tr>\n",
       "      <th>133</th>\n",
       "      <td>Brian Goodwin</td>\n",
       "      <td>Angels</td>\n",
       "      <td>287.0</td>\n",
       "      <td>0.386760</td>\n",
       "      <td>0.336299</td>\n",
       "      <td>0.050460</td>\n",
       "    </tr>\n",
       "  </tbody>\n",
       "</table>\n",
       "</div>"
      ],
      "text/plain": [
       "                   Name       Team  Balls in Play  Average on Balls in Play  \\\n",
       "305  Fernando Tatis Jr.     Padres          226.0                  0.486726   \n",
       "253        Tim Anderson  White Sox          389.0                  0.442159   \n",
       "240        Victor Reyes     Tigers          214.0                  0.406542   \n",
       "300        Brandon Lowe       Rays          183.0                  0.448087   \n",
       "261     Garrett Hampson    Rockies          215.0                  0.362791   \n",
       "158    Delino DeShields    Rangers          267.0                  0.355805   \n",
       "94            Jon Berti    Marlins          184.0                  0.407609   \n",
       "230        Kevin Newman    Pirates          433.0                  0.374134   \n",
       "233          David Dahl    Rockies          270.0                  0.425926   \n",
       "133       Brian Goodwin     Angels          287.0                  0.386760   \n",
       "\n",
       "     Ex Average on Balls in Play  Difference  \n",
       "305                     0.388463    0.098263  \n",
       "253                     0.372693    0.069467  \n",
       "240                     0.345916    0.060627  \n",
       "300                     0.388098    0.059989  \n",
       "261                     0.310430    0.052361  \n",
       "158                     0.303930    0.051875  \n",
       "94                      0.356161    0.051448  \n",
       "230                     0.322937    0.051197  \n",
       "233                     0.375238    0.050688  \n",
       "133                     0.336299    0.050460  "
      ]
     },
     "execution_count": 61,
     "metadata": {},
     "output_type": "execute_result"
    }
   ],
   "source": [
    "summary.sort_values(by=['Difference'],ascending=False).head(10)"
   ]
  },
  {
   "cell_type": "code",
   "execution_count": 63,
   "metadata": {},
   "outputs": [],
   "source": [
    "summary.to_csv('../aggdata.csv')\n"
   ]
  },
  {
   "cell_type": "markdown",
   "metadata": {},
   "source": [
    "## Charts"
   ]
  },
  {
   "cell_type": "markdown",
   "metadata": {},
   "source": [
    "### Launch Speed v Vert Angle"
   ]
  },
  {
   "cell_type": "code",
   "execution_count": null,
   "metadata": {},
   "outputs": [],
   "source": [
    "testX=np.linspace(-2,2,40) # (minsd,maxsd,numpoints) Launch Speed\n",
    "testy=np.linspace(-2,2,40) # (minsd,maxsd,numpoints) Launch Angle\n",
    "a=[]\n",
    "b=[]\n",
    "for i in testX:\n",
    "    for z in testy:\n",
    "        a.append(i)\n",
    "        b.append(z)"
   ]
  },
  {
   "cell_type": "code",
   "execution_count": null,
   "metadata": {},
   "outputs": [],
   "source": [
    "defhor=10 #default Horizontal Angle\n",
    "samp=pd.DataFrame()\n",
    "samp['launch_speed']=a\n",
    "samp['launch_angle']=b\n",
    "samp['hor_angle']=np.pi*defhor/(stdhor*180)\n",
    "predictionsb=classifier.predict_proba(samp)\n",
    "test=pd.DataFrame()\n",
    "test['predictions']=predictionsb[:,1]\n",
    "test['regspeed']=samp['launch_speed']*stdspd+meanspd\n",
    "test['reglang']=samp['launch_angle']*stdang+meanang"
   ]
  },
  {
   "cell_type": "code",
   "execution_count": null,
   "metadata": {},
   "outputs": [],
   "source": [
    "plt.figure()\n",
    "color = [[0,0,0]]\n",
    "for i in range(0,800):\n",
    "    colored=test['predictions'][i]\n",
    "    color=[colored,0,colored] # where we change color plots\n",
    "    plt.polar(test.loc[i, 'reglang'], test.loc[i, 'regspeed'],c=color,marker='o')\n",
    "plt.show()"
   ]
  },
  {
   "cell_type": "code",
   "execution_count": null,
   "metadata": {},
   "outputs": [],
   "source": [
    "\n",
    "plt.figure()\n",
    "color = [[0,0,0]]\n",
    "for i in range(2400,2800):\n",
    "    colored=results['predictions'][i]\n",
    "    color=[colored,0,colored] # where we change color plots\n",
    "    plt.polar(results.loc[i, 'launch_angle'], results.loc[i, 'launch_speed'],c=color,marker='o')\n",
    "plt.show()"
   ]
  },
  {
   "cell_type": "markdown",
   "metadata": {},
   "source": [
    "### Launch Speed v Horizontal Angle"
   ]
  },
  {
   "cell_type": "code",
   "execution_count": null,
   "metadata": {},
   "outputs": [],
   "source": [
    "testX=np.linspace(-2,2,40)# (minsd,maxsd,numpoints) Launch Speed\n",
    "testy=np.linspace(-1.5,1.5,30)# (minsd,maxsd,numpoints) Horizontal Angle\n",
    "a=[]\n",
    "b=[]\n",
    "for i in testX:\n",
    "    for z in testy:\n",
    "        a.append(i)\n",
    "        b.append(z)"
   ]
  },
  {
   "cell_type": "code",
   "execution_count": null,
   "metadata": {},
   "outputs": [],
   "source": [
    "deflaunch=20 #default Vertical Launch Angle\n",
    "samp2=pd.DataFrame()\n",
    "samp2['launch_speed']=a\n",
    "samp2['launch_angle']=((np.pi*deflaunch/180)-meanang)/stdang\n",
    "samp2['hor_angle']=b\n",
    "predictionsb=classifier.predict_proba(samp2)\n",
    "test2=pd.DataFrame()\n",
    "test2['predictions']=predictionsb[:,1]\n",
    "test2['regspeed']=samp2['launch_speed']*stdspd+meanspd\n",
    "test2['reghang']=samp2['hor_angle']*stdhor"
   ]
  },
  {
   "cell_type": "code",
   "execution_count": null,
   "metadata": {},
   "outputs": [],
   "source": [
    "plt.figure()\n",
    "color = [[0,0,0]]\n",
    "for i in range(0,800):\n",
    "    colored=test2['predictions'][i]\n",
    "    color=[0,colored,colored] #where we change color plots\n",
    "    plt.polar(test2.loc[i, 'reghang']+np.pi/2, test2.loc[i, 'regspeed'],c=color,marker='o')\n",
    "plt.show()"
   ]
  },
  {
   "cell_type": "code",
   "execution_count": null,
   "metadata": {},
   "outputs": [],
   "source": [
    "plt.figure()\n",
    "color = [[0,0,0]]\n",
    "for i in range(2400,2800):\n",
    "    colored=results['predictions'][i]\n",
    "    color=[0,colored,colored] # where we change color plots\n",
    "    plt.polar(results.loc[i, 'hor_angle']+np.pi/2, results.loc[i, 'launch_speed'],c=color,marker='o')\n",
    "plt.show()"
   ]
  },
  {
   "cell_type": "code",
   "execution_count": null,
   "metadata": {},
   "outputs": [],
   "source": []
  }
 ],
 "metadata": {
  "kernelspec": {
   "display_name": "Python 3",
   "language": "python",
   "name": "python3"
  },
  "language_info": {
   "codemirror_mode": {
    "name": "ipython",
    "version": 3
   },
   "file_extension": ".py",
   "mimetype": "text/x-python",
   "name": "python",
   "nbconvert_exporter": "python",
   "pygments_lexer": "ipython3",
   "version": "3.7.3"
  }
 },
 "nbformat": 4,
 "nbformat_minor": 2
}
