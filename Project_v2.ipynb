{
 "cells": [
  {
   "cell_type": "code",
   "execution_count": 44,
   "metadata": {},
   "outputs": [],
   "source": [
    "import pandas as pd\n",
    "import numpy as np\n",
    "import os\n",
    "import matplotlib.pyplot as plt"
   ]
  },
  {
   "cell_type": "code",
   "execution_count": 19,
   "metadata": {},
   "outputs": [],
   "source": [
    "\n",
    "file = pd.read_csv('Final Project/cs254-Project/data/Inplaydata19.csv', error_bad_lines=False)\n",
    "dataFrame = pd.DataFrame(file)\n",
    "\n"
   ]
  },
  {
   "cell_type": "code",
   "execution_count": 21,
   "metadata": {},
   "outputs": [
    {
     "data": {
      "text/plain": [
       "array([1, 0], dtype=int64)"
      ]
     },
     "execution_count": 21,
     "metadata": {},
     "output_type": "execute_result"
    }
   ],
   "source": [
    "# Single, Double, Triple, HomeRun, (field_out, force_out, fielders_choice) = out, \n",
    "# grounded_into_double_play, sac_fly, sac_bunt,\n",
    "\n",
    "#Transform values into binary classification\n",
    "d = {\n",
    "    'single': 1, \n",
    "    'double': 1, \n",
    "    'triple': 1, \n",
    "    'home_run': 1, \n",
    "    'field_out': 0,\n",
    "    'force_out': 0,\n",
    "    'fielders_choice': 1,\n",
    "    'grounded_into_double_play': 0,\n",
    "    'sac_fly': 0,\n",
    "    'sac_bunt': 0,\n",
    "    'double_play': 0,\n",
    "    'fielders_choice_out': 0,\n",
    "    'catcher_interf': 1,\n",
    "    'triple_play': 0,\n",
    "    'field_error': 1,\n",
    "    'sac_fly_double_play': 0,\n",
    "    'sac_bunt_double_play': 0\n",
    "}\n",
    "\n",
    "dataFrame = dataFrame.replace(d)"
   ]
  },
  {
   "cell_type": "code",
   "execution_count": 42,
   "metadata": {},
   "outputs": [
    {
     "name": "stdout",
     "output_type": "stream",
     "text": [
      "        Ones launch_speed  launch_angle\n",
      "0          1           40         -36.0\n",
      "1          1         77.8         -37.3\n",
      "2          1         80.6          35.5\n",
      "3          1        106.6          14.2\n",
      "4          1         86.9          44.3\n",
      "5          1         57.4           3.9\n",
      "6          1         97.3          25.6\n",
      "7          1         84.5          51.0\n",
      "8          1         89.5          21.5\n",
      "9          1         99.7          42.7\n",
      "10         1         73.5         -31.5\n",
      "11         1        103.1         -10.6\n",
      "12         1         75.1          19.6\n",
      "13         1         94.3           1.4\n",
      "14         1         75.4          23.0\n",
      "15         1         97.1          35.0\n",
      "16         1         78.7          17.8\n",
      "17         1        100.1          19.2\n",
      "18         1        105.3          10.4\n",
      "19         1         82.9         -20.7\n",
      "20         1         93.8          25.0\n",
      "21         1        103.5           2.2\n",
      "22         1         81.6          -1.6\n",
      "23         1         76.6          -5.6\n",
      "24         1         71.7          28.7\n",
      "25         1           91           2.0\n",
      "26         1         95.7         -22.4\n",
      "27         1         65.1          26.1\n",
      "28         1           80          69.0\n",
      "29         1         94.6          29.3\n",
      "...      ...          ...           ...\n",
      "125737     1           99          17.0\n",
      "125738     1           84         -13.0\n",
      "125739     1           84         -13.0\n",
      "125740     1           93          -1.0\n",
      "125741     1           89          38.0\n",
      "125742     1           41         -39.0\n",
      "125743     1           84         -13.0\n",
      "125744     1           99          17.0\n",
      "125745     1          103          30.0\n",
      "125746     1           89          38.0\n",
      "125747     1           95          29.0\n",
      "125748     1           75          60.0\n",
      "125749     1          104          24.0\n",
      "125750     1           93          -3.0\n",
      "125751     1           75          60.0\n",
      "125752     1           93          -3.0\n",
      "125753     1           84         -13.0\n",
      "125754     1           90          15.0\n",
      "125755     1           75          60.0\n",
      "125756     1           84         -13.0\n",
      "125757     1           73          34.0\n",
      "125758     1           84         -13.0\n",
      "125759     1           84         -13.0\n",
      "125760     1           75          60.0\n",
      "125761     1           84         -13.0\n",
      "125762     1          103          30.0\n",
      "125763     1           89          38.0\n",
      "125764     1           90          15.0\n",
      "125765     1           75          60.0\n",
      "125766     1           91          18.0\n",
      "\n",
      "[125763 rows x 3 columns]\n"
     ]
    }
   ],
   "source": [
    "X = pd.DataFrame()\n",
    "X['launch_speed'] = dataFrame['launch_speed']\n",
    "X['launch_angle'] = dataFrame['launch_angle']\n",
    "X.insert(0, 'Ones', 1)\n",
    "X['events'] = dataFrame['events']\n",
    "\n",
    "X = X.dropna()\n",
    "\n",
    "y = X['events']\n",
    "\n",
    "X = X.iloc[:, 0:3]\n"
   ]
  },
  {
   "cell_type": "code",
   "execution_count": 52,
   "metadata": {},
   "outputs": [
    {
     "data": {
      "image/png": "[encoded data removed]",
      "text/plain": [
       "<Figure size 432x288 with 1 Axes>"
      ]
     },
     "metadata": {
      "needs_background": "light"
     },
     "output_type": "display_data"
    }
   ],
   "source": [
    "plt.figure()\n",
    "color = [[0,0,0]]\n",
    "for i in range(800):\n",
    "    if y[i] == 0:\n",
    "        marker=\"o\"\n",
    "        color = [[0,0,0]]\n",
    "    elif y[i] == 1:\n",
    "        marker=\"+\"\n",
    "        color = [[0,1,0]]\n",
    "    plt.scatter(X.loc[i, 'launch_speed'], X.loc[i, 'launch_angle'], c=color, marker=marker) \n",
    "    \n",
    "plt.show()\n"
   ]
  }
 ],
 "metadata": {
  "kernelspec": {
   "display_name": "Python 3",
   "language": "python",
   "name": "python3"
  },
  "language_info": {
   "codemirror_mode": {
    "name": "ipython",
    "version": 3
   },
   "file_extension": ".py",
   "mimetype": "text/x-python",
   "name": "python",
   "nbconvert_exporter": "python",
   "pygments_lexer": "ipython3",
   "version": "3.7.3"
  }
 },
 "nbformat": 4,
 "nbformat_minor": 2
}
